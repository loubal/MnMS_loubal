{
 "cells": [
  {
   "cell_type": "code",
   "execution_count": null,
   "id": "3c3c8b96-87d0-4d3d-8d7a-14bafc6baa34",
   "metadata": {},
   "outputs": [],
   "source": [
    "#Vizualize demand spatial distribution in Amsterdam emoped pilot"
   ]
  },
  {
   "cell_type": "code",
   "execution_count": null,
   "id": "80d75a1a-e6f5-4e33-bce4-d8aa3541e398",
   "metadata": {},
   "outputs": [],
   "source": [
    "### Imports \n",
    "import os\n",
    "import math\n",
    "import sys\n",
    "import numpy as np\n",
    "import matplotlib.pyplot as plt\n",
    "from matplotlib.lines import Line2D\n",
    "import matplotlib.patches as patches\n",
    "\n",
    "import pandas as pd\n",
    "import re\n",
    "import xml.etree.ElementTree as ET\n",
    "import json\n",
    "\n",
    "sys.path.append('../../')\n",
    "from script.conversion.bison.coordinates import rd_to_utm\n",
    "from mnms.graph.layers import PublicTransportLayer, MultiLayerGraph, OriginDestinationLayer\n",
    "from mnms.generation.roads import generate_pt_line_road, generate_one_zone\n",
    "from mnms.generation.layers import generate_bbox_origin_destination_layer\n",
    "from mnms.vehicles.veh_type import Tram, Metro, Bus\n",
    "from mnms.generation.zones import generate_one_zone\n",
    "from mnms.mobility_service.public_transport import PublicTransportMobilityService\n",
    "from mnms.time import TimeTable, Dt, Time\n",
    "from mnms.io.graph import load_graph, save_graph, save_odlayer\n",
    "from mnms.tools.render import draw_roads, draw_line, draw_odlayer\n",
    "from mnms.tools.geometry import points_in_polygon, get_bounding_box"
   ]
  },
  {
   "cell_type": "code",
   "execution_count": null,
   "id": "7413ef47-56f9-4b96-a5c1-5631f64909a2",
   "metadata": {},
   "outputs": [],
   "source": [
    "### Parameters\n",
    "\n",
    "nb_emoped = 600\n",
    "\n",
    "# Files and directories\n",
    "current_dir = os.getcwd()\n",
    "indir = current_dir + '/inputs/'\n",
    "outdir = current_dir + '/outputs/'\n",
    "\n",
    "f = open('params.json')\n",
    "params = json.load(f)\n",
    "\n",
    "#amsterdam_json_filepath = indir + 'new_network.json' # mlgraph with the road network only\n",
    "#ams_dmd_path = indir + 'test_all_in_highway_7h_9h.csv' # dmd inside ringroad 7-9am\n",
    "init_emoped_path = indir + 'init_pos_emoped.csv'\n",
    "fn_stations = indir + 'emoped_stations'+str(nb_emoped)+'.csv'\n",
    "\n",
    "np.random.seed(68568)"
   ]
  },
  {
   "cell_type": "code",
   "execution_count": null,
   "id": "d00f6db5-a778-4d3a-b2e5-40ffa82e8b4f",
   "metadata": {},
   "outputs": [],
   "source": [
    "### Get the MLGraph without TCs \n",
    "amsterdam_graph = load_graph(indir+params['fn_network'])\n",
    "roads = amsterdam_graph.roads"
   ]
  },
  {
   "cell_type": "code",
   "execution_count": null,
   "id": "ae579164-5f03-4e1c-a1c1-8b539bd8554e",
   "metadata": {},
   "outputs": [],
   "source": [
    "# Load dmd\n",
    "db_dmd = pd.read_csv(indir+params['fn_demand'], sep=';')"
   ]
  },
  {
   "cell_type": "code",
   "execution_count": null,
   "id": "837902f8-dc29-40fc-97bc-460ecbc285eb",
   "metadata": {},
   "outputs": [],
   "source": [
    "db_dmd"
   ]
  },
  {
   "cell_type": "code",
   "execution_count": null,
   "id": "1e6c1fc9-aaa6-4c6a-9751-24021a07b853",
   "metadata": {},
   "outputs": [],
   "source": [
    "nb_dmd = len(db_dmd)\n",
    "origins = np.zeros((len(db_dmd),2))\n",
    "destinations = np.zeros((len(db_dmd),2))\n",
    "for i, row in db_dmd[:].iterrows():\n",
    "    origins[i] = [float(o) for o in row['ORIGIN'].split(' ')]\n",
    "    destinations[i] = [float(d) for d in row['DESTINATION'].split(' ')]"
   ]
  },
  {
   "cell_type": "code",
   "execution_count": null,
   "id": "4291b36d-9b36-4696-aa4e-4df56609c384",
   "metadata": {},
   "outputs": [],
   "source": [
    "ho = plt.hexbin(origins[:,0], origins[:,1], gridsize=10, alpha=0.2, cmap='Blues')\n",
    "cb = plt.colorbar(ho)"
   ]
  },
  {
   "cell_type": "code",
   "execution_count": null,
   "id": "abf46d86-0d5a-4def-9be8-35eda6ab895e",
   "metadata": {},
   "outputs": [],
   "source": [
    "hd = plt.hexbin(destinations[:,0], destinations[:,1], gridsize=10, alpha=0.2, cmap='Blues')\n",
    "cb = plt.colorbar(hd)"
   ]
  },
  {
   "cell_type": "markdown",
   "id": "1ec4876f-4ce7-4e5a-8ede-b87476cb482d",
   "metadata": {},
   "source": [
    "# Free-floating"
   ]
  },
  {
   "cell_type": "code",
   "execution_count": null,
   "id": "c118a7f3-9b9f-440e-bec4-fd3f736293d5",
   "metadata": {},
   "outputs": [],
   "source": [
    "# Emoped initial locations\n",
    "x = np.random.random(nb_emoped)*(origins[:,0].max()-origins[:,0].min()) + origins[:,0].min()\n",
    "y = np.random.random(nb_emoped)*(origins[:,1].max()-origins[:,1].min()) + origins[:,1].min()\n",
    "df_emoped = pd.DataFrame({'x':x, 'y':y})"
   ]
  },
  {
   "cell_type": "code",
   "execution_count": null,
   "id": "f9e5a4af-dec3-4ed7-93f9-51c81c65afef",
   "metadata": {},
   "outputs": [],
   "source": [
    "nodes_pos = np.array([node.position for node in roads.nodes.values()])\n",
    "nodes_id = list(roads.nodes.keys())"
   ]
  },
  {
   "cell_type": "code",
   "execution_count": null,
   "id": "405ed36f-7d1b-4120-854b-fc33ff730edf",
   "metadata": {},
   "outputs": [],
   "source": [
    "closest_nodes = []\n",
    "x_nodes = []\n",
    "y_nodes = []\n",
    "for i, row in df_emoped.iterrows():\n",
    "    x = row['x']\n",
    "    y = row['y']\n",
    "    dist_nodes = (x-nodes_pos[:,0])**2 + (y-nodes_pos[:,1])**2\n",
    "    i_min = np.argmin(dist_nodes)\n",
    "    closest_nodes.append(nodes_id[i_min])\n",
    "    x_nodes.append(nodes_pos[i_min,0])\n",
    "    y_nodes.append(nodes_pos[i_min,1])\n",
    "df_emoped['closest_node'] = closest_nodes\n",
    "df_emoped['x_node'] = x_nodes\n",
    "df_emoped['y_node'] = y_nodes"
   ]
  },
  {
   "cell_type": "code",
   "execution_count": null,
   "id": "b11edac4-1f66-4a75-be53-fb157a550d66",
   "metadata": {},
   "outputs": [],
   "source": [
    "df_emoped"
   ]
  },
  {
   "cell_type": "code",
   "execution_count": null,
   "id": "0942e602-898b-4ed2-9257-5a3865c4fd1a",
   "metadata": {},
   "outputs": [],
   "source": [
    "#df_emoped.to_csv(init_emoped_path)"
   ]
  },
  {
   "cell_type": "code",
   "execution_count": null,
   "id": "a61a60a7-03fb-4f41-866f-0559762a820b",
   "metadata": {},
   "outputs": [],
   "source": []
  },
  {
   "cell_type": "code",
   "execution_count": null,
   "id": "f05695f3-2fae-4a1d-8dd5-078a2ad0f2c7",
   "metadata": {},
   "outputs": [],
   "source": []
  },
  {
   "cell_type": "code",
   "execution_count": null,
   "id": "14a58587-aa44-42d0-af08-1d2e88a17fe7",
   "metadata": {},
   "outputs": [],
   "source": [
    "a=df_emoped.value_counts('closest_node')"
   ]
  },
  {
   "cell_type": "code",
   "execution_count": null,
   "id": "082ff883-8025-4d0f-a02d-fcd4590fd25c",
   "metadata": {},
   "outputs": [],
   "source": [
    "#for node, nb in a.items():\n",
    "#    print(node,nb)"
   ]
  },
  {
   "cell_type": "code",
   "execution_count": null,
   "id": "09eb31fe-42a8-4cae-8a9f-582b0f79a864",
   "metadata": {},
   "outputs": [],
   "source": []
  },
  {
   "cell_type": "code",
   "execution_count": null,
   "id": "7b27e88f-47fa-49eb-9b38-224dca1b0c9a",
   "metadata": {},
   "outputs": [],
   "source": [
    "fig, ax = plt.subplots(figsize=(15, 15))\n",
    "draw_roads(ax, roads, color='grey', linkwidth=0.1, nodesize=0, draw_stops=False, node_label=False)\n",
    "\n",
    "plt.plot(origins[:,0], origins[:,1], 'b.', alpha=0.5)\n",
    "plt.plot(destinations[:,0], destinations[:,1], 'r.', alpha=0.5)\n",
    "#plt.plot(od_clustered[:,0], od_clustered[:,1], 'gd', alpha=0.5)\n",
    "\n",
    "plt.plot(df_emoped['x_node'], df_emoped['y_node'],'gd')\n",
    "plt.plot(df_emoped['x'], df_emoped['y'],'kd')\n",
    "    \n",
    "#plt.xlim([624e3, 635e3])\n",
    "#plt.ylim([5.795e6, 5.8125e6])"
   ]
  },
  {
   "cell_type": "markdown",
   "id": "3e44b09c-7fd7-4c57-9d27-d2ec1a2fec45",
   "metadata": {},
   "source": [
    "# Station locations"
   ]
  },
  {
   "cell_type": "code",
   "execution_count": null,
   "id": "49c8e83f-e100-495b-ba91-369ade16cfed",
   "metadata": {},
   "outputs": [],
   "source": [
    "# use origin for stations locations"
   ]
  },
  {
   "cell_type": "code",
   "execution_count": null,
   "id": "a209a6e8-2a82-4d1a-9ef8-106f050ba87b",
   "metadata": {},
   "outputs": [],
   "source": [
    "f = open(indir+params['fn_odlayer'])\n",
    "od_layer = json.load(f)\n",
    "\n",
    "nodes_id = [k for k in roads.nodes.keys() if not ('TRAM' in k or 'BUS' in k or 'METRO' in k)]\n",
    "nodes_pos = np.array([roads.nodes[k].position for k in nodes_id])\n",
    "#nodes_pos = np.array([node.position for node in roads.nodes.values()])\n",
    "#nodes_id = list(roads.nodes.keys())"
   ]
  },
  {
   "cell_type": "code",
   "execution_count": null,
   "id": "84471862-8cfe-4901-af7e-228ec9f16ebb",
   "metadata": {},
   "outputs": [],
   "source": [
    "nodes_pos"
   ]
  },
  {
   "cell_type": "code",
   "execution_count": null,
   "id": "ab4c1b9b-c2a3-4839-8858-8bbfeeab8f14",
   "metadata": {},
   "outputs": [],
   "source": [
    "closest_nodes = []\n",
    "x_nodes = []\n",
    "y_nodes = []\n",
    "for i in od_layer['ORIGINS'].items():\n",
    "    x = i[1][0]\n",
    "    y = i[1][1]\n",
    "    dist_nodes = (x-nodes_pos[:,0])**2 + (y-nodes_pos[:,1])**2\n",
    "    i_min = np.argmin(dist_nodes)\n",
    "    closest_nodes.append(nodes_id[i_min])\n",
    "    x_nodes.append(nodes_pos[i_min,0])\n",
    "    y_nodes.append(nodes_pos[i_min,1])\n",
    "\n",
    "\n",
    "df_st_emoped = pd.DataFrame({'closest_node': closest_nodes, 'x_node':x_nodes, 'y_node':y_nodes})\n",
    "\n",
    "# Remove doppel station\n",
    "a = df_st_emoped['closest_node'].value_counts()\n",
    "dbl_id = a[a>1].keys()\n",
    "for n_id in dbl_id:\n",
    "    for st_id in df_st_emoped[df_st_emoped.closest_node == n_id][1:].index:\n",
    "        df_st_emoped.drop(st_id, inplace=True)\n",
    "df_st_emoped.reset_index(drop=True, inplace=True)"
   ]
  },
  {
   "cell_type": "code",
   "execution_count": null,
   "id": "ef685041-3b92-4834-8ae9-0b9503e6c717",
   "metadata": {},
   "outputs": [],
   "source": [
    "df_st_emoped"
   ]
  },
  {
   "cell_type": "code",
   "execution_count": null,
   "id": "86d6cb48-0418-46eb-8b81-c6007055b00b",
   "metadata": {},
   "outputs": [],
   "source": []
  },
  {
   "cell_type": "code",
   "execution_count": null,
   "id": "62e0ee21-7644-458c-84ed-6a0676d07af0",
   "metadata": {},
   "outputs": [],
   "source": [
    "fig, ax = plt.subplots(figsize=(15, 15))\n",
    "draw_roads(ax, roads, color='grey', linkwidth=0.1, nodesize=0, draw_stops=False, node_label=False)\n",
    "ho = plt.hexbin(origins[:,0], origins[:,1], gridsize=10, alpha=0.2, cmap='Blues')\n",
    "cb = plt.colorbar(ho)\n",
    "\n",
    "plt.plot(df_st_emoped['x_node'], df_st_emoped['y_node'],'gd')"
   ]
  },
  {
   "cell_type": "code",
   "execution_count": null,
   "id": "91668c2b-5999-4168-80fb-f6f40695a427",
   "metadata": {},
   "outputs": [],
   "source": [
    "hex_values = ho.get_array()\n",
    "hex_values/= hex_values.sum()"
   ]
  },
  {
   "cell_type": "code",
   "execution_count": null,
   "id": "922bb7f6-ef5e-468e-9826-609ca3efe3c3",
   "metadata": {},
   "outputs": [],
   "source": [
    "hex_centers = ho.get_offsets()"
   ]
  },
  {
   "cell_type": "code",
   "execution_count": null,
   "id": "f69efa92-acd8-4ac7-8f77-e2508ddbbd6a",
   "metadata": {},
   "outputs": [],
   "source": [
    "# Choose nb of emoped depending on demand\n",
    "st_hex = np.zeros(len(df_st_emoped),dtype=int)\n",
    "nb_st_per_hex = np.zeros(len(hex_values),dtype=int)\n",
    "\n",
    "for i_st,(x,y) in enumerate(zip(df_st_emoped.x_node, df_st_emoped.y_node)):\n",
    "    dist_sq = [(x-x_)**2+(y-y_)**2 for x_,y_ in zip(hex_centers[:,0],hex_centers[:,1])]\n",
    "    i_hex = np.argmin(dist_sq)\n",
    "    st_hex[i_st] = i_hex\n",
    "    nb_st_per_hex[i_hex] += 1\n",
    "    \n",
    "nb_emoped_prop = np.zeros(len(df_st_emoped),dtype=int)\n",
    "for i_st, i_hex in enumerate(st_hex):\n",
    "    nb_emoped_prop[i_st] = int(nb_emoped * hex_values[i_hex] / nb_st_per_hex[i_hex] + 0.5)\n",
    "\n"
   ]
  },
  {
   "cell_type": "code",
   "execution_count": null,
   "id": "e25ef073-c234-48f8-a2c1-3875026d4d83",
   "metadata": {},
   "outputs": [],
   "source": [
    "nb_emoped_prop.sum()"
   ]
  },
  {
   "cell_type": "code",
   "execution_count": null,
   "id": "d96369c9-5701-400d-838e-c470ae3bbbf0",
   "metadata": {},
   "outputs": [],
   "source": [
    "df_st_emoped['nb_emoped'] = nb_emoped_prop"
   ]
  },
  {
   "cell_type": "code",
   "execution_count": null,
   "id": "f5b499a9-f4a1-400c-9b5b-0b91888c4920",
   "metadata": {},
   "outputs": [],
   "source": [
    "## Save file \n",
    "df_st_emoped.to_csv(fn_stations)"
   ]
  },
  {
   "cell_type": "code",
   "execution_count": null,
   "id": "64318b70-3fe3-4a43-a2bd-d346b98937f8",
   "metadata": {},
   "outputs": [],
   "source": []
  },
  {
   "cell_type": "code",
   "execution_count": null,
   "id": "c56e8a84-fb53-4ff9-8874-4290a9f22d13",
   "metadata": {},
   "outputs": [],
   "source": []
  },
  {
   "cell_type": "code",
   "execution_count": null,
   "id": "2843c90f-1228-4ed3-b332-7e5a9eb600cd",
   "metadata": {},
   "outputs": [],
   "source": []
  }
 ],
 "metadata": {
  "kernelspec": {
   "display_name": "Python 3 (ipykernel)",
   "language": "python",
   "name": "python3"
  },
  "language_info": {
   "codemirror_mode": {
    "name": "ipython",
    "version": 3
   },
   "file_extension": ".py",
   "mimetype": "text/x-python",
   "name": "python",
   "nbconvert_exporter": "python",
   "pygments_lexer": "ipython3",
   "version": "3.10.8"
  }
 },
 "nbformat": 4,
 "nbformat_minor": 5
}
