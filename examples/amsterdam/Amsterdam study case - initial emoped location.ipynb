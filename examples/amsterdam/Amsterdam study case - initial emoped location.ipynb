{
 "cells": [
  {
   "cell_type": "code",
   "execution_count": null,
   "id": "3c3c8b96-87d0-4d3d-8d7a-14bafc6baa34",
   "metadata": {},
   "outputs": [],
   "source": [
    "#Vizualize demand spatial distribution in Amsterdam emoped pilot"
   ]
  },
  {
   "cell_type": "code",
   "execution_count": null,
   "id": "80d75a1a-e6f5-4e33-bce4-d8aa3541e398",
   "metadata": {},
   "outputs": [],
   "source": [
    "### Imports \n",
    "import os\n",
    "import math\n",
    "import sys\n",
    "import numpy as np\n",
    "import matplotlib.pyplot as plt\n",
    "from matplotlib.lines import Line2D\n",
    "import matplotlib.patches as patches\n",
    "\n",
    "import pandas as pd\n",
    "import re\n",
    "import xml.etree.ElementTree as ET\n",
    "\n",
    "sys.path.append('../../')\n",
    "from script.conversion.bison.coordinates import rd_to_utm\n",
    "from mnms.graph.layers import PublicTransportLayer, MultiLayerGraph, OriginDestinationLayer\n",
    "from mnms.generation.roads import generate_pt_line_road, generate_one_zone\n",
    "from mnms.generation.layers import generate_bbox_origin_destination_layer\n",
    "from mnms.vehicles.veh_type import Tram, Metro, Bus\n",
    "from mnms.generation.zones import generate_one_zone\n",
    "from mnms.mobility_service.public_transport import PublicTransportMobilityService\n",
    "from mnms.time import TimeTable, Dt, Time\n",
    "from mnms.io.graph import load_graph, save_graph, save_odlayer\n",
    "from mnms.tools.render import draw_roads, draw_line, draw_odlayer\n",
    "from mnms.tools.geometry import points_in_polygon, get_bounding_box"
   ]
  },
  {
   "cell_type": "code",
   "execution_count": null,
   "id": "7413ef47-56f9-4b96-a5c1-5631f64909a2",
   "metadata": {},
   "outputs": [],
   "source": [
    "### Parameters\n",
    "\n",
    "# Files and directories\n",
    "current_dir = os.getcwd()\n",
    "indir = current_dir + '/inputs/'\n",
    "outdir = current_dir + '/outputs/'\n",
    "\n",
    "coord_csv_filepath = indir + 'KV1_GVB_2609_2/Csv/POINT.csv' # file with coordinates of the network\n",
    "amsterdam_json_filepath = indir + 'new_network.json' # mlgraph with the road network only\n",
    "ams_dmd_path = indir + 'test_all_in_highway_7h_9h.csv' # dmd inside ringroad 7-9am"
   ]
  },
  {
   "cell_type": "code",
   "execution_count": null,
   "id": "d00f6db5-a778-4d3a-b2e5-40ffa82e8b4f",
   "metadata": {},
   "outputs": [],
   "source": [
    "### Get the MLGraph without TCs \n",
    "amsterdam_graph = load_graph(amsterdam_json_filepath)\n",
    "roads = amsterdam_graph.roads"
   ]
  },
  {
   "cell_type": "code",
   "execution_count": null,
   "id": "ae579164-5f03-4e1c-a1c1-8b539bd8554e",
   "metadata": {},
   "outputs": [],
   "source": [
    "# Load dmd\n",
    "db_dmd = pd.read_csv(ams_dmd_path, sep=';')"
   ]
  },
  {
   "cell_type": "code",
   "execution_count": null,
   "id": "837902f8-dc29-40fc-97bc-460ecbc285eb",
   "metadata": {},
   "outputs": [],
   "source": [
    "db_dmd"
   ]
  },
  {
   "cell_type": "code",
   "execution_count": null,
   "id": "1e6c1fc9-aaa6-4c6a-9751-24021a07b853",
   "metadata": {},
   "outputs": [],
   "source": [
    "nb_dmd = len(db_dmd)\n",
    "origins = np.zeros((len(db_dmd),2))\n",
    "destinations = np.zeros((len(db_dmd),2))\n",
    "for i, row in db_dmd[:].iterrows():\n",
    "    origins[i] = [float(o) for o in row['ORIGIN'].split(' ')]\n",
    "    destinations[i] = [float(d) for d in row['DESTINATION'].split(' ')]"
   ]
  },
  {
   "cell_type": "code",
   "execution_count": null,
   "id": "c118a7f3-9b9f-440e-bec4-fd3f736293d5",
   "metadata": {},
   "outputs": [],
   "source": [
    "# Emoped initial locations\n",
    "nb_emoped = 100\n",
    "\n",
    "x = np.random.random(nb_emoped)*(origins[:,0].max()-origins[:,0].min()) + origins[:,0].min()\n",
    "y = np.random.random(nb_emoped)*(origins[:,1].max()-origins[:,1].min()) + origins[:,1].min()\n",
    "df_emoped = pd.DataFrame({'x':x, 'y':y})"
   ]
  },
  {
   "cell_type": "code",
   "execution_count": null,
   "id": "f9e5a4af-dec3-4ed7-93f9-51c81c65afef",
   "metadata": {},
   "outputs": [],
   "source": [
    "nodes_pos = np.array([node.position for node in roads.nodes.values()])\n",
    "nodes_id = list(roads.nodes.keys())"
   ]
  },
  {
   "cell_type": "code",
   "execution_count": null,
   "id": "405ed36f-7d1b-4120-854b-fc33ff730edf",
   "metadata": {},
   "outputs": [],
   "source": [
    "closest_nodes = []\n",
    "x_nodes = []\n",
    "y_nodes = []\n",
    "for i, row in df_emoped.iterrows():\n",
    "    x = row['x']\n",
    "    y = row['y']\n",
    "    dist_nodes = (x-nodes_pos[:,0])**2 + (y-nodes_pos[:,1])**2\n",
    "    i_min = np.argmin(dist_nodes)\n",
    "    closest_nodes.append(nodes_id[i_min])\n",
    "    x_nodes.append(nodes_pos[i_min,0])\n",
    "    y_nodes.append(nodes_pos[i_min,1])\n",
    "df_emoped['closest_node'] = closest_nodes\n",
    "df_emoped['x_node'] = x_nodes\n",
    "df_emoped['y_node'] = y_nodes"
   ]
  },
  {
   "cell_type": "code",
   "execution_count": null,
   "id": "b11edac4-1f66-4a75-be53-fb157a550d66",
   "metadata": {},
   "outputs": [],
   "source": [
    "df_emoped"
   ]
  },
  {
   "cell_type": "code",
   "execution_count": null,
   "id": "0942e602-898b-4ed2-9257-5a3865c4fd1a",
   "metadata": {},
   "outputs": [],
   "source": []
  },
  {
   "cell_type": "code",
   "execution_count": null,
   "id": "a61a60a7-03fb-4f41-866f-0559762a820b",
   "metadata": {},
   "outputs": [],
   "source": []
  },
  {
   "cell_type": "code",
   "execution_count": null,
   "id": "f05695f3-2fae-4a1d-8dd5-078a2ad0f2c7",
   "metadata": {},
   "outputs": [],
   "source": []
  },
  {
   "cell_type": "code",
   "execution_count": null,
   "id": "14a58587-aa44-42d0-af08-1d2e88a17fe7",
   "metadata": {},
   "outputs": [],
   "source": []
  },
  {
   "cell_type": "code",
   "execution_count": null,
   "id": "082ff883-8025-4d0f-a02d-fcd4590fd25c",
   "metadata": {},
   "outputs": [],
   "source": []
  },
  {
   "cell_type": "code",
   "execution_count": null,
   "id": "09eb31fe-42a8-4cae-8a9f-582b0f79a864",
   "metadata": {},
   "outputs": [],
   "source": []
  },
  {
   "cell_type": "code",
   "execution_count": null,
   "id": "7b27e88f-47fa-49eb-9b38-224dca1b0c9a",
   "metadata": {},
   "outputs": [],
   "source": [
    "fig, ax = plt.subplots(figsize=(15, 15))\n",
    "draw_roads(ax, roads, color='grey', linkwidth=0.1, nodesize=0, draw_stops=False, node_label=False)\n",
    "\n",
    "plt.plot(origins[:,0], origins[:,1], 'b.', alpha=0.5)\n",
    "plt.plot(destinations[:,0], destinations[:,1], 'r.', alpha=0.5)\n",
    "#plt.plot(od_clustered[:,0], od_clustered[:,1], 'gd', alpha=0.5)\n",
    "\n",
    "plt.plot(df_emoped['x_node'], df_emoped['y_node'],'gd')\n",
    "plt.plot(df_emoped['x'], df_emoped['y'],'kd')\n",
    "    \n",
    "plt.xlim([624e3, 635e3])\n",
    "plt.ylim([5.795e6, 5.8125e6])"
   ]
  },
  {
   "cell_type": "code",
   "execution_count": null,
   "id": "3f46ae12-2e9b-40ee-98bc-982b8036162b",
   "metadata": {},
   "outputs": [],
   "source": []
  }
 ],
 "metadata": {
  "kernelspec": {
   "display_name": "Python 3 (ipykernel)",
   "language": "python",
   "name": "python3"
  },
  "language_info": {
   "codemirror_mode": {
    "name": "ipython",
    "version": 3
   },
   "file_extension": ".py",
   "mimetype": "text/x-python",
   "name": "python",
   "nbconvert_exporter": "python",
   "pygments_lexer": "ipython3",
   "version": "3.10.8"
  }
 },
 "nbformat": 4,
 "nbformat_minor": 5
}
