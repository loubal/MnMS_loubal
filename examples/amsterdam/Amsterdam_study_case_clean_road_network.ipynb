{
 "cells": [
  {
   "cell_type": "markdown",
   "id": "2c4c1771",
   "metadata": {},
   "source": [
    "Clean road network to reduce number of nodes and links"
   ]
  },
  {
   "cell_type": "markdown",
   "id": "d294a4c4",
   "metadata": {},
   "source": [
    "## Imports"
   ]
  },
  {
   "cell_type": "code",
   "execution_count": null,
   "id": "4c9087a7",
   "metadata": {},
   "outputs": [],
   "source": [
    "### Imports \n",
    "import os\n",
    "import math\n",
    "import sys\n",
    "import numpy as np\n",
    "import matplotlib.pyplot as plt\n",
    "from matplotlib.lines import Line2D\n",
    "import matplotlib.patches as patches\n",
    "\n",
    "import pandas as pd\n",
    "import re\n",
    "import xml.etree.ElementTree as ET\n",
    "\n",
    "sys.path.append('../../')\n",
    "from mnms.io.graph import load_graph, save_graph\n",
    "from mnms.graph.road import RoadDescriptor\n",
    "from mnms.graph.layers import MultiLayerGraph\n",
    "from mnms.generation.layers import generate_layer_from_roads\n",
    "from mnms.generation.zones import generate_one_zone\n",
    "from mnms.tools.render import draw_roads, draw_line, draw_odlayer\n",
    "from mnms.vehicles.veh_type import Car"
   ]
  },
  {
   "cell_type": "markdown",
   "id": "ad96886c",
   "metadata": {},
   "source": [
    "## Parameters"
   ]
  },
  {
   "cell_type": "code",
   "execution_count": null,
   "id": "10d13022",
   "metadata": {},
   "outputs": [],
   "source": [
    "### Parameters\n",
    "\n",
    "# Files and directories\n",
    "current_dir = os.getcwd()\n",
    "indir = current_dir + '/inputs/'\n",
    "outdir = current_dir + '/outputs/'\n",
    "\n",
    "coord_csv_filepath = indir + 'KV1_GVB_2609_2/Csv/POINT.csv' # file with coordinates of the network\n",
    "file_road_network = indir + 'new_network.json' # mlgraph with the road network only\n",
    "file_road_network_lite = indir + 'new_network_lite.json' # mlgraph with pt"
   ]
  },
  {
   "cell_type": "code",
   "execution_count": null,
   "id": "bd0cf0c4",
   "metadata": {},
   "outputs": [],
   "source": [
    "### Get the MLGraph without TCs \n",
    "amsterdam_graph = load_graph(file_road_network)\n",
    "roads = amsterdam_graph.roads"
   ]
  },
  {
   "cell_type": "code",
   "execution_count": null,
   "id": "b813ca82-7d23-4daf-b702-49f12a8c4c28",
   "metadata": {},
   "outputs": [],
   "source": [
    "x_nodes = []\n",
    "y_nodes = []\n",
    "for key in roads.nodes.keys():\n",
    "    pos = roads.nodes[key].position\n",
    "    x_nodes.append(pos[0])\n",
    "    y_nodes.append(pos[1])"
   ]
  },
  {
   "cell_type": "markdown",
   "id": "d600ba28",
   "metadata": {},
   "source": [
    "## Visualization"
   ]
  },
  {
   "cell_type": "code",
   "execution_count": null,
   "id": "7a152afc",
   "metadata": {},
   "outputs": [],
   "source": [
    "### Visualize the roads\n",
    "fig, ax = plt.subplots(figsize=(10, 10))\n",
    "draw_roads(ax, roads, color='grey', linkwidth=0.1, nodesize=0, draw_stops=False, node_label=False)\n",
    "plt.plot(x_nodes, y_nodes, '.m', alpha=0.5, markersize=1)"
   ]
  },
  {
   "cell_type": "code",
   "execution_count": null,
   "id": "f43ec07b-8eee-41aa-b39e-b58bc3dc4ad6",
   "metadata": {},
   "outputs": [],
   "source": [
    "print(len(roads.nodes), len(roads.sections))"
   ]
  },
  {
   "cell_type": "code",
   "execution_count": null,
   "id": "7a1a718d-9929-4897-ae96-0086503cb962",
   "metadata": {},
   "outputs": [],
   "source": []
  },
  {
   "cell_type": "code",
   "execution_count": null,
   "id": "38a79984-5994-4d66-ac25-739e0b77547e",
   "metadata": {},
   "outputs": [],
   "source": [
    "#roads.sections"
   ]
  },
  {
   "cell_type": "code",
   "execution_count": null,
   "id": "85a8a1db-c284-4164-b0f9-d9cabdf0c7a5",
   "metadata": {},
   "outputs": [],
   "source": [
    "#roads.sections.keys()"
   ]
  },
  {
   "cell_type": "code",
   "execution_count": null,
   "id": "224f413a-fed0-4ae5-b0d7-047f04729dca",
   "metadata": {},
   "outputs": [],
   "source": [
    "print(roads.sections['m132486921_0_r'])\n",
    "print(roads.sections['m132486921_0'])"
   ]
  },
  {
   "cell_type": "code",
   "execution_count": null,
   "id": "a3aa6b50-6300-4d2f-b090-65f2b938b544",
   "metadata": {},
   "outputs": [],
   "source": [
    "nodes_id = roads.nodes.keys()"
   ]
  },
  {
   "cell_type": "code",
   "execution_count": null,
   "id": "ee30d819-4482-4503-956f-8319816bdb0b",
   "metadata": {},
   "outputs": [],
   "source": [
    "df_sections = pd.DataFrame.from_dict(roads.sections, orient='index')\n",
    "df_nodes = pd.DataFrame.from_dict(roads.nodes, orient='index')\n",
    "df_nodes['x'] = df_nodes.position.apply(lambda p : p[0])\n",
    "df_nodes['y'] = df_nodes.position.apply(lambda p : p[1])"
   ]
  },
  {
   "cell_type": "code",
   "execution_count": null,
   "id": "44ba3ef6-4dae-425b-9fc9-06f4fab1538c",
   "metadata": {},
   "outputs": [],
   "source": [
    "# Remove looped sections\n",
    "df_sections = df_sections[df_sections.downstream != df_sections.upstream]"
   ]
  },
  {
   "cell_type": "code",
   "execution_count": null,
   "id": "fd7aaafb-c347-4a8f-9713-d12502ad492d",
   "metadata": {},
   "outputs": [],
   "source": [
    "plt.hist(df_sections.length.values, bins=100)\n",
    "plt.xlim([0,200])"
   ]
  },
  {
   "cell_type": "code",
   "execution_count": null,
   "id": "35bd299d-9ff4-448b-8b96-73721b13969b",
   "metadata": {},
   "outputs": [],
   "source": [
    "nodes_to_keep = []\n",
    "sections_to_keep = []\n",
    "nb_empty = 0\n",
    "nb_remove = 0\n",
    "\n",
    "for n_id in list(nodes_id):\n",
    "    links_entry = df_sections[df_sections.downstream==n_id]\n",
    "    links_exit = df_sections[df_sections.upstream==n_id]\n",
    "    empty = (len(links_entry)==0 and len(links_exit)==0)\n",
    "    remove1 = (len(links_entry)==1 and len(links_exit)==1) and (set(links_entry.upstream.values) != set(links_exit.downstream.values))\n",
    "    remove2 = (len(links_entry)==2 and len(links_exit)==2) and (set(links_entry.upstream.values) == set(links_exit.downstream.values)) and (len(set(links_entry.upstream.values))==2)\n",
    "    if empty:\n",
    "        nb_empty += 1\n",
    "    elif remove1:\n",
    "        n_up = links_entry.iloc[0].upstream\n",
    "        n_down = links_exit.iloc[0].downstream\n",
    "        if n_up==n_down:\n",
    "            break\n",
    "        id = n_up + '_' + n_down\n",
    "        length = links_exit.iloc[0].length + links_entry.iloc[0].length\n",
    "        # Remove link exit\n",
    "        df_sections.drop(links_exit.iloc[0].id, inplace=True)\n",
    "        # Replace link down\n",
    "        df_sections.loc[links_entry.iloc[0].id, 'id'] = id\n",
    "        df_sections.loc[links_entry.iloc[0].id, 'downstream'] = n_down\n",
    "        df_sections.loc[links_entry.iloc[0].id, 'upstream'] = n_up\n",
    "        df_sections.loc[links_entry.iloc[0].id, 'length'] = length\n",
    "        df_sections.rename(index={links_entry.iloc[0].id:id},inplace=True)\n",
    "        nb_remove += 1\n",
    "    elif remove2: \n",
    "        n_link = len(links_entry)\n",
    "        for i_l in range(n_link):\n",
    "            n_up = links_entry.upstream.values[i_l]\n",
    "            n_down = links_entry.upstream.values[n_link-i_l-1]\n",
    "            if n_up==n_down:\n",
    "                break\n",
    "            id = n_up + '_' + n_down\n",
    "            length = links_exit.iloc[i_l].length + links_entry.iloc[n_link-i_l-1].length\n",
    "            # Remove link exit\n",
    "            df_sections.drop(links_exit.iloc[i_l].id, inplace=True)\n",
    "            # Replace link down\n",
    "            df_sections.loc[links_entry.iloc[i_l].id, 'id'] = id\n",
    "            df_sections.loc[links_entry.iloc[i_l].id, 'downstream'] = n_down\n",
    "            df_sections.loc[links_entry.iloc[i_l].id, 'upstream'] = n_up\n",
    "            df_sections.loc[links_entry.iloc[i_l].id, 'length'] = length\n",
    "            df_sections.rename(index={links_entry.iloc[i_l].id:id},inplace=True)\n",
    "            nb_remove += 1\n",
    "    else:\n",
    "        nodes_to_keep.append(n_id)\n",
    "print(nb_empty, nb_remove)\n"
   ]
  },
  {
   "cell_type": "code",
   "execution_count": null,
   "id": "4254f936-3e6b-4917-9f3c-640fb929e19d",
   "metadata": {},
   "outputs": [],
   "source": [
    "links_entry"
   ]
  },
  {
   "cell_type": "code",
   "execution_count": null,
   "id": "0382a57f-c794-4faf-a170-cc352e3f2a34",
   "metadata": {},
   "outputs": [],
   "source": []
  },
  {
   "cell_type": "code",
   "execution_count": null,
   "id": "08ba2ecf-fe7b-4b3b-b800-d038c1a13184",
   "metadata": {},
   "outputs": [],
   "source": [
    "df_sections"
   ]
  },
  {
   "cell_type": "code",
   "execution_count": null,
   "id": "cf955f73-e797-453f-acdc-64f9218fbcf0",
   "metadata": {},
   "outputs": [],
   "source": [
    "df_sections[df_sections.upstream=='m46179587']"
   ]
  },
  {
   "cell_type": "code",
   "execution_count": null,
   "id": "59238e79-f175-4d1c-9fa3-b1b282013e07",
   "metadata": {},
   "outputs": [],
   "source": [
    "simplified_roads = RoadDescriptor()\n",
    "for n_id in nodes_to_keep:\n",
    "    position = df_nodes.position[n_id]\n",
    "    simplified_roads.register_node(n_id, position)\n",
    "\n",
    "for sec, rsect in df_sections.iterrows():\n",
    "    simplified_roads.register_section(sec, rsect.upstream, rsect.downstream, rsect.length)\n",
    "\n",
    "simplified_roads.add_zone(generate_one_zone('RES',simplified_roads))"
   ]
  },
  {
   "cell_type": "code",
   "execution_count": null,
   "id": "48f02def-e11b-4d51-8846-1f15b2ee425a",
   "metadata": {},
   "outputs": [],
   "source": [
    "x_nodes2 = []\n",
    "y_nodes2 = []\n",
    "id_nodes2 = []\n",
    "for key in simplified_roads.nodes.keys():\n",
    "    pos = simplified_roads.nodes[key].position\n",
    "    x_nodes2.append(pos[0])\n",
    "    y_nodes2.append(pos[1])\n",
    "    id_nodes2.append(simplified_roads.nodes[key].id)"
   ]
  },
  {
   "cell_type": "code",
   "execution_count": null,
   "id": "2cb51004-bc8c-46d6-bc5f-c7f699e605a1",
   "metadata": {},
   "outputs": [],
   "source": [
    "#df_nodes[(df_nodes.x>620000) & (df_nodes.x<620200) & (df_nodes.y>5.8e6+200) & (df_nodes.y<5.8e6+350)]"
   ]
  },
  {
   "cell_type": "code",
   "execution_count": null,
   "id": "cb6321e3-2090-4aa2-8e1f-c92a61c79afe",
   "metadata": {},
   "outputs": [],
   "source": [
    "n_id = 'm1612084863'\n",
    "print(df_sections[df_sections.downstream==n_id])\n",
    "print(df_sections[df_sections.upstream==n_id])"
   ]
  },
  {
   "cell_type": "code",
   "execution_count": null,
   "id": "5803607e-6660-42d1-b978-95f64c9bd73d",
   "metadata": {},
   "outputs": [],
   "source": [
    "fig, ax = plt.subplots(figsize=(10, 10))\n",
    "draw_roads(ax, roads, color='black', linkwidth=0.1, nodesize=0, draw_stops=False, node_label=False)\n",
    "draw_roads(ax, simplified_roads, color='red', linkwidth=0.1, nodesize=0, draw_stops=False, node_label=False)\n",
    "plt.plot(x_nodes, y_nodes, '.m', alpha=0.5)#, markersize=1)\n",
    "plt.plot(x_nodes2, y_nodes2, '.g', alpha=0.5)#, markersize=1)\n",
    "#plt.xlim([620000, 621000])\n",
    "#plt.ylim([5.80e6, 5.8002e6])"
   ]
  },
  {
   "cell_type": "code",
   "execution_count": null,
   "id": "dd872fdc-347d-45b8-944e-bf28d46fa25b",
   "metadata": {},
   "outputs": [],
   "source": [
    "print(len(simplified_roads.nodes), len(simplified_roads.sections))"
   ]
  },
  {
   "cell_type": "code",
   "execution_count": null,
   "id": "c864c775-49f4-4b88-817a-31b48a80974a",
   "metadata": {},
   "outputs": [],
   "source": [
    "layer_car = generate_layer_from_roads(roads = simplified_roads,\n",
    "                              layer_id = amsterdam_graph.layers['CAR'].id,\n",
    "                              #class_layer = SimpleLayer,\n",
    "                              veh_type = Car,\n",
    "                              default_speed = amsterdam_graph.layers['CAR'].default_speed)\n",
    "new_graph = MultiLayerGraph([layer_car])\n"
   ]
  },
  {
   "cell_type": "code",
   "execution_count": null,
   "id": "1d8eb251-c667-4694-8efd-f2f457c71ade",
   "metadata": {},
   "outputs": [],
   "source": [
    "# Save graph\n",
    "#save_graph(new_graph, file_road_network_lite)"
   ]
  },
  {
   "cell_type": "code",
   "execution_count": null,
   "id": "90243cdb-6136-43d5-bc3a-bf1cfb2a2f25",
   "metadata": {},
   "outputs": [],
   "source": []
  },
  {
   "cell_type": "code",
   "execution_count": null,
   "id": "260881c0-40ba-408d-a378-3ec94168b307",
   "metadata": {},
   "outputs": [],
   "source": []
  }
 ],
 "metadata": {
  "kernelspec": {
   "display_name": "Python 3 (ipykernel)",
   "language": "python",
   "name": "python3"
  },
  "language_info": {
   "codemirror_mode": {
    "name": "ipython",
    "version": 3
   },
   "file_extension": ".py",
   "mimetype": "text/x-python",
   "name": "python",
   "nbconvert_exporter": "python",
   "pygments_lexer": "ipython3",
   "version": "3.10.8"
  },
  "toc": {
   "base_numbering": 1,
   "nav_menu": {},
   "number_sections": true,
   "sideBar": true,
   "skip_h1_title": false,
   "title_cell": "Table of Contents",
   "title_sidebar": "Contents",
   "toc_cell": false,
   "toc_position": {},
   "toc_section_display": true,
   "toc_window_display": true
  }
 },
 "nbformat": 4,
 "nbformat_minor": 5
}
