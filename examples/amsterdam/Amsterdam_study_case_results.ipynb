{
 "cells": [
  {
   "cell_type": "code",
   "execution_count": null,
   "id": "5e0552b0-92d7-4009-aa68-8ea249d3d224",
   "metadata": {},
   "outputs": [],
   "source": [
    "# Define and save the static transit links"
   ]
  },
  {
   "cell_type": "code",
   "execution_count": null,
   "id": "22994324-0321-41e3-b124-20cc45519a4f",
   "metadata": {},
   "outputs": [],
   "source": [
    "### Imports \n",
    "import os\n",
    "import math\n",
    "import sys\n",
    "import numpy as np\n",
    "import matplotlib.pyplot as plt\n",
    "from matplotlib.lines import Line2D\n",
    "import matplotlib.patches as patches\n",
    "from matplotlib.collections import LineCollection\n",
    "import time\n",
    "\n",
    "import pandas as pd\n",
    "\n",
    "sys.path.append('../../')\n",
    "from script.conversion.bison.coordinates import rd_to_utm\n",
    "from mnms.graph.layers import PublicTransportLayer, MultiLayerGraph, OriginDestinationLayer, SharedVehicleLayer\n",
    "from mnms.generation.roads import generate_pt_line_road, generate_one_zone\n",
    "from mnms.generation.layers import generate_layer_from_roads\n",
    "from mnms.vehicles.veh_type import Tram, Metro, Bus, Bike\n",
    "from mnms.generation.zones import generate_one_zone\n",
    "from mnms.mobility_service.public_transport import PublicTransportMobilityService\n",
    "from mnms.mobility_service.vehicle_sharing import VehicleSharingMobilityService\n",
    "from mnms.time import TimeTable, Dt, Time\n",
    "from mnms.io.graph import load_graph, save_graph, load_odlayer, save_transit_links\n",
    "from mnms.tools.render import draw_roads, draw_line, draw_odlayer, draw_path, draw_veh_activity\n",
    "from mnms.tools.geometry import points_in_polygon, get_bounding_box"
   ]
  },
  {
   "cell_type": "code",
   "execution_count": null,
   "id": "dafa8fc3-fdbb-4b99-b83b-84d60fd15405",
   "metadata": {},
   "outputs": [],
   "source": []
  },
  {
   "cell_type": "code",
   "execution_count": null,
   "id": "f79c15e6-6830-41a5-b4be-ae5b35fee64e",
   "metadata": {},
   "outputs": [],
   "source": [
    "### Parameters\n",
    "\n",
    "# Files and directories\n",
    "current_dir = os.getcwd()\n",
    "indir = current_dir + '/inputs/'\n",
    "outdir = current_dir + '/outputs/'\n",
    "\n",
    "#coord_csv_filepath = indir + 'KV1_GVB_2609_2/Csv/POINT.csv' # file with coordinates of the network\n",
    "#amsterdam_json_filepath = indir + 'new_network.json' # mlgraph with the road network only\n",
    "amsterdam_json_filepath_pt_transit = indir + \"network_pt_transit.json\"\n",
    "transit_path = indir + \"transit.json\"\n",
    "ams_dmd_path = indir + 'test_all_in_highway_7h_9h.csv' # dmd inside ringroad 7-9am\n",
    "\n",
    "# Transit connection (m)\n",
    "DIST_MAX = 500\n",
    "DIST_CONNECTION_OD = 200\n",
    "DIST_CONNECTION_PT = 100\n",
    "DIST_CONNECTION_MIX = 100"
   ]
  },
  {
   "cell_type": "code",
   "execution_count": null,
   "id": "44806c5b-50e3-41cb-8590-37a3e77b7ab5",
   "metadata": {},
   "outputs": [],
   "source": [
    "### Load network\n",
    "\n",
    "mmgraph_pt = load_graph(indir + \"network_pt.json\")\n",
    "# odlayer = load_odlayer(indir + \"od_layer_clustered_200.json\")\n",
    "df_emoped1 = pd.read_csv(indir + 'init_pos_emoped.csv')\n",
    "df_emoped2 = pd.read_csv(indir + 'init_pos_emoped.csv')"
   ]
  },
  {
   "cell_type": "code",
   "execution_count": null,
   "id": "295e1909-0855-459f-b816-cc995bddcec4",
   "metadata": {},
   "outputs": [],
   "source": [
    "## Load results\n",
    "\n"
   ]
  },
  {
   "cell_type": "code",
   "execution_count": null,
   "id": "01e3d7d7-d286-4247-a4ac-d63ed5154852",
   "metadata": {},
   "outputs": [],
   "source": [
    "veh_id = 54\n",
    "df = pd.read_csv(outdir+'emoped1.csv', sep=\";\")\n",
    "df = df[df[\"ID\"] == int(veh_id)]"
   ]
  },
  {
   "cell_type": "code",
   "execution_count": null,
   "id": "102ebf62-fa75-4e5f-b684-668847ddd4db",
   "metadata": {},
   "outputs": [],
   "source": [
    "df"
   ]
  },
  {
   "cell_type": "code",
   "execution_count": null,
   "id": "f61cfc2f-f7ae-47a7-80ff-1390cf7b9abc",
   "metadata": {},
   "outputs": [],
   "source": [
    "fig, ax = plt.subplots(figsize=(10, 10))\n",
    "draw_roads(ax, mmgraph_pt.roads, color='grey', linkwidth=0.1, nodesize=0, draw_stops=False, node_label=False)\n",
    "for i, row in df.iterrows():\n",
    "    pos = row['POSITION'].split(' ')\n",
    "    plt.plot(float(pos[0]), float(pos[1]), '+')\n",
    "\n"
   ]
  },
  {
   "cell_type": "code",
   "execution_count": null,
   "id": "c4eb441e-c60e-46ec-8a50-d13971ab509e",
   "metadata": {},
   "outputs": [],
   "source": []
  },
  {
   "cell_type": "code",
   "execution_count": null,
   "id": "a980cea9-c93b-476c-8fa5-2f4b14bed7a5",
   "metadata": {},
   "outputs": [],
   "source": []
  },
  {
   "cell_type": "code",
   "execution_count": null,
   "id": "74df0b87-21b5-4b27-a043-017eead741f9",
   "metadata": {},
   "outputs": [],
   "source": []
  }
 ],
 "metadata": {
  "kernelspec": {
   "display_name": "Python 3 (ipykernel)",
   "language": "python",
   "name": "python3"
  },
  "language_info": {
   "codemirror_mode": {
    "name": "ipython",
    "version": 3
   },
   "file_extension": ".py",
   "mimetype": "text/x-python",
   "name": "python",
   "nbconvert_exporter": "python",
   "pygments_lexer": "ipython3",
   "version": "3.10.8"
  }
 },
 "nbformat": 4,
 "nbformat_minor": 5
}
