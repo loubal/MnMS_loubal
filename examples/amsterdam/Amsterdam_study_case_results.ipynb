{
 "cells": [
  {
   "cell_type": "code",
   "execution_count": null,
   "id": "5e0552b0-92d7-4009-aa68-8ea249d3d224",
   "metadata": {},
   "outputs": [],
   "source": [
    "# Extract results"
   ]
  },
  {
   "cell_type": "code",
   "execution_count": null,
   "id": "22994324-0321-41e3-b124-20cc45519a4f",
   "metadata": {},
   "outputs": [],
   "source": [
    "### Imports \n",
    "import os\n",
    "import math\n",
    "import sys\n",
    "import numpy as np\n",
    "import matplotlib.pyplot as plt\n",
    "from matplotlib.lines import Line2D\n",
    "import matplotlib.patches as patches\n",
    "from matplotlib.collections import LineCollection\n",
    "import time\n",
    "import json\n",
    "\n",
    "import pandas as pd\n",
    "\n",
    "sys.path.append('../../')\n",
    "from script.conversion.bison.coordinates import rd_to_utm\n",
    "from mnms.graph.layers import PublicTransportLayer, MultiLayerGraph, OriginDestinationLayer, SharedVehicleLayer\n",
    "from mnms.generation.roads import generate_pt_line_road, generate_one_zone\n",
    "from mnms.generation.layers import generate_layer_from_roads\n",
    "from mnms.vehicles.veh_type import Tram, Metro, Bus, Bike\n",
    "from mnms.generation.zones import generate_one_zone\n",
    "from mnms.mobility_service.public_transport import PublicTransportMobilityService\n",
    "from mnms.mobility_service.vehicle_sharing import VehicleSharingMobilityService\n",
    "from mnms.time import TimeTable, Dt, Time\n",
    "from mnms.io.graph import load_graph, save_graph, load_odlayer, save_transit_links\n",
    "from mnms.tools.render import draw_roads, draw_line, draw_odlayer, draw_path, draw_veh_activity\n",
    "#from mnms.tools.geometry import points_in_polygon, get_bounding_box"
   ]
  },
  {
   "cell_type": "code",
   "execution_count": null,
   "id": "dafa8fc3-fdbb-4b99-b83b-84d60fd15405",
   "metadata": {},
   "outputs": [],
   "source": []
  },
  {
   "cell_type": "code",
   "execution_count": null,
   "id": "f79c15e6-6830-41a5-b4be-ae5b35fee64e",
   "metadata": {},
   "outputs": [],
   "source": [
    "### Parameters\n",
    "\n",
    "# Files and directories\n",
    "f = open('params.json')\n",
    "params = json.load(f)\n",
    "\n",
    "current_dir = os.getcwd()\n",
    "indir = current_dir + '/inputs/'\n",
    "outdir = current_dir + '/outputs/'\n",
    "\n",
    "#coord_csv_filepath = indir + 'KV1_GVB_2609_2/Csv/POINT.csv' # file with coordinates of the network\n",
    "#amsterdam_json_filepath = indir + 'new_network.json' # mlgraph with the road network only\n",
    "#amsterdam_json_filepath_pt_transit = indir + \"network_pt_transit.json\"\n",
    "#transit_path = indir + \"transit.json\"\n",
    "\n",
    "# Transit connection (m)\n",
    "DIST_MAX = 500\n",
    "DIST_CONNECTION_OD = 200\n",
    "DIST_CONNECTION_PT = 100\n",
    "DIST_CONNECTION_MIX = 100"
   ]
  },
  {
   "cell_type": "code",
   "execution_count": null,
   "id": "44806c5b-50e3-41cb-8590-37a3e77b7ab5",
   "metadata": {},
   "outputs": [],
   "source": [
    "### Load network\n",
    "\n",
    "mmgraph_pt = load_graph(indir + params[\"fn_network\"])\n",
    "df_stations = pd.read_csv(indir+params['fn_emoped_st_init'])\n",
    "\n",
    "#df_emoped1 = pd.read_csv(indir + 'init_pos_emoped.csv')\n",
    "#df_emoped2 = pd.read_csv(indir + 'init_pos_emoped.csv')\n",
    "\n",
    "### Load demand\n",
    "\n",
    "df_dmd = pd.read_csv(indir + params['fn_demand'], sep=\";\")\n",
    "\n",
    "### Load odlayer\n",
    "odlayer = load_odlayer(indir + params[\"fn_odlayer\"])\n",
    "x_od = []\n",
    "y_od = []\n",
    "for i in odlayer.origins.items():\n",
    "    x = i[1][0]\n",
    "    y = i[1][1]\n",
    "    x_od.append(x)\n",
    "    y_od.append(y)"
   ]
  },
  {
   "cell_type": "code",
   "execution_count": null,
   "id": "295e1909-0855-459f-b816-cc995bddcec4",
   "metadata": {},
   "outputs": [],
   "source": [
    "## Load results\n",
    "\n",
    "df_emoped1 = pd.read_csv(outdir+'emoped1_veh.csv', sep=\";\")\n",
    "df_path = pd.read_csv(outdir+'path.csv', sep=\";\")"
   ]
  },
  {
   "cell_type": "code",
   "execution_count": null,
   "id": "01e3d7d7-d286-4247-a4ac-d63ed5154852",
   "metadata": {},
   "outputs": [],
   "source": [
    "# Look vehicle trajectory\n",
    "veh_id = 47\n",
    "df = df_emoped1[df_emoped1[\"ID\"] == int(veh_id)]"
   ]
  },
  {
   "cell_type": "code",
   "execution_count": null,
   "id": "102ebf62-fa75-4e5f-b684-668847ddd4db",
   "metadata": {},
   "outputs": [],
   "source": [
    "# Look O/D for users wihtout paths\n",
    "list_nomatch = []\n",
    "list_origins = []\n",
    "list_destinations = []\n",
    "for i, row in df_path[:].iterrows():\n",
    "    if pd.isna(row['PATH']):\n",
    "        list_nomatch.append(row['ID'])\n",
    "        user = df_dmd[df_dmd['ID']==row['ID']]\n",
    "        list_origins.append([float(o) for o in user['ORIGIN'].iloc[0].split(' ')])\n",
    "        list_destinations.append([float(o) for o in user['DESTINATION'].iloc[0].split(' ')])"
   ]
  },
  {
   "cell_type": "code",
   "execution_count": null,
   "id": "3590c48a-d481-4ca6-8c83-4d8b7cd55596",
   "metadata": {},
   "outputs": [],
   "source": [
    "df_dmd"
   ]
  },
  {
   "cell_type": "code",
   "execution_count": null,
   "id": "6a511cf9-a915-430a-8396-b3029435fbba",
   "metadata": {},
   "outputs": [],
   "source": [
    "id_user = '1063608-1'\n",
    "o_user =  [float(o) for o in df_dmd[df_dmd['ID']==id_user]['ORIGIN'].iloc[0].split(' ')]\n",
    "d_user =  [float(o) for o in df_dmd[df_dmd['ID']==id_user]['DESTINATION'].iloc[0].split(' ')]\n",
    "\n",
    "dist_o = [(o_user[0]-x)**2 + (o_user[1]-y)**2 for (x,y) in zip(x_od,y_od)]\n",
    "dist_d = [(d_user[0]-x)**2 + (d_user[1]-y)**2 for (x,y) in zip(x_od,y_od)]\n",
    "print(np.argmin(dist_o), np.argmin(dist_d))"
   ]
  },
  {
   "cell_type": "code",
   "execution_count": null,
   "id": "c892b49c-1291-4d90-b74d-3286d6cc1528",
   "metadata": {},
   "outputs": [],
   "source": [
    "polygon = np.asarray([\n",
    "    [628000, 5.81e6],\n",
    "    [632500, 5.808e6],\n",
    "    [634000, 5.8055e6],\n",
    "    [634000, 5.803e6],\n",
    "    [633000, 5.801e6],\n",
    "    [630500, 5.7995e6],\n",
    "    [629000, 5.8e6],\n",
    "    [625500, 5.8e6],\n",
    "    [625500, 5.803e6],\n",
    "    [625500, 5.806e6]\n",
    "])"
   ]
  },
  {
   "cell_type": "code",
   "execution_count": null,
   "id": "4b122edf-0670-4e7b-8f7d-bf96612ccc4b",
   "metadata": {},
   "outputs": [],
   "source": [
    "x_st = []\n",
    "y_st = []\n",
    "for n in df_stations['closest_node']:\n",
    "    x_st.append(mmgraph_pt.roads.nodes[n].position[0])\n",
    "    y_st.append(mmgraph_pt.roads.nodes[n].position[1])"
   ]
  },
  {
   "cell_type": "code",
   "execution_count": null,
   "id": "f61cfc2f-f7ae-47a7-80ff-1390cf7b9abc",
   "metadata": {},
   "outputs": [],
   "source": [
    "fig, ax = plt.subplots(figsize=(10, 10))\n",
    "draw_roads(ax, mmgraph_pt.roads, color='grey', linkwidth=0.1, nodesize=0, draw_stops=False, node_label=False)\n",
    "for i, row in df.iterrows():\n",
    "    pos = row['POSITION'].split(' ')\n",
    "    plt.text(float(pos[0]), float(pos[1]), row.TIME)\n",
    "\n",
    "for o,d in zip(list_origins, list_destinations):\n",
    "    plt.plot([o[0], d[0]], [o[1], d[1]], ':')\n",
    "    plt.plot(d[0], d[1], 'dg')\n",
    "    plt.plot(o[0], o[1], 'or')\n",
    "\n",
    "plt.plot([o_user[0], d_user[0]], [o_user[1], d_user[1]], 'o-')\n",
    "\n",
    "plt.plot(x_od, y_od, '*b')\n",
    "\n",
    "plt.plot(x_st, y_st, 'dk', alpha=0.4)\n",
    "\n",
    "plt.plot(polygon[:,0], polygon[:,1], '+--k')"
   ]
  },
  {
   "cell_type": "code",
   "execution_count": null,
   "id": "c4eb441e-c60e-46ec-8a50-d13971ab509e",
   "metadata": {},
   "outputs": [],
   "source": []
  },
  {
   "cell_type": "code",
   "execution_count": null,
   "id": "a980cea9-c93b-476c-8fa5-2f4b14bed7a5",
   "metadata": {},
   "outputs": [],
   "source": []
  },
  {
   "cell_type": "code",
   "execution_count": null,
   "id": "74df0b87-21b5-4b27-a043-017eead741f9",
   "metadata": {},
   "outputs": [],
   "source": []
  }
 ],
 "metadata": {
  "kernelspec": {
   "display_name": "Python 3 (ipykernel)",
   "language": "python",
   "name": "python3"
  },
  "language_info": {
   "codemirror_mode": {
    "name": "ipython",
    "version": 3
   },
   "file_extension": ".py",
   "mimetype": "text/x-python",
   "name": "python",
   "nbconvert_exporter": "python",
   "pygments_lexer": "ipython3",
   "version": "3.10.8"
  },
  "toc": {
   "base_numbering": 1,
   "nav_menu": {},
   "number_sections": true,
   "sideBar": true,
   "skip_h1_title": false,
   "title_cell": "Table of Contents",
   "title_sidebar": "Contents",
   "toc_cell": false,
   "toc_position": {},
   "toc_section_display": true,
   "toc_window_display": true
  }
 },
 "nbformat": 4,
 "nbformat_minor": 5
}
