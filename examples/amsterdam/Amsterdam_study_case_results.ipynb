{
 "cells": [
  {
   "cell_type": "code",
   "execution_count": null,
   "id": "5e0552b0-92d7-4009-aa68-8ea249d3d224",
   "metadata": {},
   "outputs": [],
   "source": [
    "# Extract results"
   ]
  },
  {
   "cell_type": "code",
   "execution_count": null,
   "id": "22994324-0321-41e3-b124-20cc45519a4f",
   "metadata": {},
   "outputs": [],
   "source": [
    "### Imports \n",
    "import os\n",
    "import math\n",
    "import sys\n",
    "import numpy as np\n",
    "import matplotlib.pyplot as plt\n",
    "from matplotlib.lines import Line2D\n",
    "import matplotlib.patches as patches\n",
    "from matplotlib.collections import LineCollection\n",
    "import time\n",
    "import json\n",
    "\n",
    "import pandas as pd\n",
    "\n",
    "sys.path.append('../../')\n",
    "from script.conversion.bison.coordinates import rd_to_utm\n",
    "from mnms.graph.layers import PublicTransportLayer, MultiLayerGraph, OriginDestinationLayer, SharedVehicleLayer\n",
    "from mnms.generation.roads import generate_pt_line_road, generate_one_zone\n",
    "from mnms.generation.layers import generate_layer_from_roads\n",
    "from mnms.vehicles.veh_type import Tram, Metro, Bus, Bike\n",
    "from mnms.generation.zones import generate_one_zone\n",
    "from mnms.mobility_service.public_transport import PublicTransportMobilityService\n",
    "from mnms.mobility_service.vehicle_sharing import VehicleSharingMobilityService\n",
    "from mnms.time import TimeTable, Dt, Time\n",
    "from mnms.io.graph import load_graph, save_graph, load_odlayer, save_transit_links\n",
    "from mnms.tools.render import draw_roads, draw_line, draw_odlayer, draw_path, draw_veh_activity\n",
    "#from mnms.tools.geometry import points_in_polygon, get_bounding_box\n",
    "from mnms.time import Time"
   ]
  },
  {
   "cell_type": "code",
   "execution_count": null,
   "id": "dafa8fc3-fdbb-4b99-b83b-84d60fd15405",
   "metadata": {},
   "outputs": [],
   "source": []
  },
  {
   "cell_type": "code",
   "execution_count": null,
   "id": "f79c15e6-6830-41a5-b4be-ae5b35fee64e",
   "metadata": {},
   "outputs": [],
   "source": [
    "### Parameters\n",
    "\n",
    "# Files and directories\n",
    "f = open('params.json')\n",
    "params = json.load(f)\n",
    "\n",
    "current_dir = os.getcwd()\n",
    "indir = current_dir + '/inputs/'\n",
    "outdir = current_dir + '/outputs/'\n",
    "\n",
    "#coord_csv_filepath = indir + 'KV1_GVB_2609_2/Csv/POINT.csv' # file with coordinates of the network\n",
    "#amsterdam_json_filepath = indir + 'new_network.json' # mlgraph with the road network only\n",
    "#amsterdam_json_filepath_pt_transit = indir + \"network_pt_transit.json\"\n",
    "#transit_path = indir + \"transit.json\""
   ]
  },
  {
   "cell_type": "code",
   "execution_count": null,
   "id": "44806c5b-50e3-41cb-8590-37a3e77b7ab5",
   "metadata": {},
   "outputs": [],
   "source": [
    "### Load network\n",
    "\n",
    "mmgraph_pt = load_graph(indir + params[\"fn_network\"])\n",
    "df_stations = pd.read_csv(indir+params['fn_emoped_st_init'])\n",
    "\n",
    "#df_emoped1 = pd.read_csv(indir + 'init_pos_emoped.csv')\n",
    "#df_emoped2 = pd.read_csv(indir + 'init_pos_emoped.csv')\n",
    "\n",
    "### Load demand\n",
    "\n",
    "df_dmd = pd.read_csv(indir + params['fn_demand'], sep=\";\")\n",
    "\n",
    "### Load odlayer\n",
    "odlayer = load_odlayer(indir + params[\"fn_odlayer\"])\n",
    "x_od = []\n",
    "y_od = []\n",
    "for i in odlayer.origins.items():\n",
    "    x = i[1][0]\n",
    "    y = i[1][1]\n",
    "    x_od.append(x)\n",
    "    y_od.append(y)"
   ]
  },
  {
   "cell_type": "code",
   "execution_count": null,
   "id": "295e1909-0855-459f-b816-cc995bddcec4",
   "metadata": {},
   "outputs": [],
   "source": [
    "## Load results\n",
    "\n",
    "df_emoped1 = pd.read_csv(outdir+'emoped1_veh.csv', sep=\";\")\n",
    "df_path = pd.read_csv(outdir+'path.csv', sep=\";\")\n",
    "df_users = pd.read_csv(outdir+'users.csv', sep=\";\")"
   ]
  },
  {
   "cell_type": "code",
   "execution_count": null,
   "id": "01e3d7d7-d286-4247-a4ac-d63ed5154852",
   "metadata": {},
   "outputs": [],
   "source": [
    "# Look vehicle trajectory\n",
    "\"\"\"veh_id = 130\n",
    "df = df_emoped1[df_emoped1[\"ID\"] == int(veh_id)]\n",
    "list_pos_emoped = np.zeros((len(df['POSITION']),2))\n",
    "for i, row in enumerate(df['POSITION']):\n",
    "    pos = row.split(' ')\n",
    "    #plt.text(float(pos[0]), float(pos[1]), row.TIME)\n",
    "    list_pos_emoped[i,:] = [float(pos[0]), float(pos[1])]\"\"\""
   ]
  },
  {
   "cell_type": "code",
   "execution_count": null,
   "id": "52b76a62-038e-4271-aee6-9d8e244fff42",
   "metadata": {},
   "outputs": [],
   "source": [
    "len(df_dmd)"
   ]
  },
  {
   "cell_type": "code",
   "execution_count": null,
   "id": "102ebf62-fa75-4e5f-b684-668847ddd4db",
   "metadata": {},
   "outputs": [],
   "source": [
    "# Look O/D for users wihtout paths\n",
    "\"\"\"list_nomatch = []\n",
    "list_origins = []\n",
    "list_destinations = []\n",
    "for i, row in df_path_notax[:].iterrows():\n",
    "    if pd.isna(row['PATH']):\n",
    "        list_nomatch.append(row['ID'])\n",
    "        user = df_dmd[df_dmd['ID']==row['ID']]\n",
    "        list_origins.append([float(o) for o in user['ORIGIN'].iloc[0].split(' ')])\n",
    "        list_destinations.append([float(o) for o in user['DESTINATION'].iloc[0].split(' ')])\"\"\""
   ]
  },
  {
   "cell_type": "code",
   "execution_count": null,
   "id": "3590c48a-d481-4ca6-8c83-4d8b7cd55596",
   "metadata": {},
   "outputs": [],
   "source": []
  },
  {
   "cell_type": "code",
   "execution_count": null,
   "id": "6a511cf9-a915-430a-8396-b3029435fbba",
   "metadata": {},
   "outputs": [],
   "source": [
    "\"\"\"id_user = '1066750-1'\n",
    "o_user =  [float(o) for o in df_dmd[df_dmd['ID']==id_user]['ORIGIN'].iloc[0].split(' ')]\n",
    "d_user =  [float(o) for o in df_dmd[df_dmd['ID']==id_user]['DESTINATION'].iloc[0].split(' ')]\n",
    "\n",
    "dist_o = [(o_user[0]-x)**2 + (o_user[1]-y)**2 for (x,y) in zip(x_od,y_od)]\n",
    "dist_d = [(d_user[0]-x)**2 + (d_user[1]-y)**2 for (x,y) in zip(x_od,y_od)]\n",
    "print(np.argmin(dist_o), np.argmin(dist_d))\"\"\""
   ]
  },
  {
   "cell_type": "code",
   "execution_count": null,
   "id": "c892b49c-1291-4d90-b74d-3286d6cc1528",
   "metadata": {},
   "outputs": [],
   "source": [
    "#polygon = np.asarray([\n",
    "#    [628000, 5.81e6],\n",
    "#    [632500, 5.808e6],\n",
    "#    [634000, 5.8055e6],\n",
    "#    [634000, 5.803e6],\n",
    "#    [633000, 5.801e6],\n",
    "#    [630500, 5.7995e6],\n",
    "#    [629000, 5.8e6],\n",
    "#    [625500, 5.8e6],\n",
    "#    [625500, 5.803e6],\n",
    "#    [625500, 5.806e6]\n",
    "#])\n",
    "\n",
    "polygon = np.asarray(params['polygon_demand'])"
   ]
  },
  {
   "cell_type": "code",
   "execution_count": null,
   "id": "4b122edf-0670-4e7b-8f7d-bf96612ccc4b",
   "metadata": {},
   "outputs": [],
   "source": [
    "x_st = []\n",
    "y_st = []\n",
    "for n in df_stations['closest_node']:\n",
    "    x_st.append(mmgraph_pt.roads.nodes[n].position[0])\n",
    "    y_st.append(mmgraph_pt.roads.nodes[n].position[1])"
   ]
  },
  {
   "cell_type": "code",
   "execution_count": null,
   "id": "ccfb1717-d073-4ba8-b3e2-7c26a2e15b85",
   "metadata": {},
   "outputs": [],
   "source": [
    "x_nodes = []\n",
    "y_nodes = []\n",
    "for key in mmgraph_pt.roads.nodes.keys():\n",
    "    pos = mmgraph_pt.roads.nodes[key].position\n",
    "    x_nodes.append(pos[0])\n",
    "    y_nodes.append(pos[1])"
   ]
  },
  {
   "cell_type": "code",
   "execution_count": null,
   "id": "77fa7b6f-9baf-41b0-b3bc-755761d1324b",
   "metadata": {},
   "outputs": [],
   "source": []
  },
  {
   "cell_type": "code",
   "execution_count": null,
   "id": "f61cfc2f-f7ae-47a7-80ff-1390cf7b9abc",
   "metadata": {},
   "outputs": [],
   "source": [
    "fig, ax = plt.subplots(figsize=(8, 8))\n",
    "\n",
    "draw_roads(ax, mmgraph_pt.roads, color='grey', linkwidth=0.1, nodesize=0, draw_stops=False, node_label=False)\n",
    "\n",
    "# Params of the visualization\n",
    "colors = {'BUS': 'green', 'METRO': 'red', 'TRAM': 'skyblue'}\n",
    "\n",
    "for layer in mmgraph_pt.layers.values():\n",
    "    if type(layer) == PublicTransportLayer:\n",
    "        for name, line in layer.lines.items():\n",
    "                draw_line(ax, mmgraph_pt, line, color=colors[name[:name.find('_')]], \n",
    "                          linkwidth=0.4, nodesize=1, line_label=None, label_size=1, alpha=1., stopmarkeredgewidth=0.1)\n",
    "\n",
    "#plt.plot(x_od, y_od, 'dk', alpha=0.4)\n",
    "\n",
    "plt.plot(x_st, y_st, '*b')\n",
    "\n",
    "plt.plot(x_nodes, y_nodes, '.m', alpha=0.5, markersize=1)\n",
    "\n",
    "#plt.plot(list_pos_emoped[:,0], list_pos_emoped[:,1], ':.')\n",
    "\n",
    "\"\"\"for o,d in zip(list_origins, list_destinations):\n",
    "    plt.plot([o[0], d[0]], [o[1], d[1]], 'm:', alpha=0.2)\n",
    "    plt.plot(d[0], d[1], 'dm', alpha=0.2)\n",
    "    plt.plot(o[0], o[1], 'om', alpha=0.2)\"\"\"\n",
    "\n",
    "#plt.plot([o_user[0], d_user[0]], [o_user[1], d_user[1]], 'o-')\n",
    "x=list(polygon[:,0])\n",
    "x.append(polygon[0,0])\n",
    "y=list(polygon[:,1])\n",
    "y.append(polygon[0,1])\n",
    "plt.plot(x, y, '+--k')\n",
    "\n",
    "legend = [Line2D([0, 1], [0, 1], marker='.', markersize=12, markeredgecolor='black', color='skyblue', linewidth=5,\n",
    "            label='Tram line'),\n",
    "          Line2D([0, 1], [0, 1], marker='.', markersize=12, markeredgecolor='black', color='red', linewidth=5,\n",
    "            label='Metro line'),\n",
    "          Line2D([0, 1], [0, 1], marker='.', markersize=12, markeredgecolor='black', color='green', linewidth=5,\n",
    "            label='Bus line'),\n",
    "          Line2D([0, 1], [0, 1], marker='.', markersize=0, markeredgecolor='grey', markerfacecolor='grey', color='grey', linewidth=1,\n",
    "            label='Roads'),\n",
    "          Line2D([0, 1], [0, 1], marker='*', markersize=10, color='b', linewidth=0,\n",
    "            label='Virtual station')]\n",
    "\n",
    "legend = plt.legend(handles=legend)\n",
    "#plt.savefig(params['figdir']+'network.pdf')\n",
    "#plt.xlim([627000,628000])\n",
    "#plt.ylim([5.8095e6, 5.8105e6])"
   ]
  },
  {
   "cell_type": "code",
   "execution_count": null,
   "id": "8c254f81-f859-48be-b8e5-a1f70997a744",
   "metadata": {},
   "outputs": [],
   "source": []
  },
  {
   "cell_type": "markdown",
   "id": "292a7886-ba2c-4b75-ba66-2808416e8808",
   "metadata": {},
   "source": [
    "## Modes shares"
   ]
  },
  {
   "cell_type": "code",
   "execution_count": null,
   "id": "c4eb441e-c60e-46ec-8a50-d13971ab509e",
   "metadata": {},
   "outputs": [],
   "source": [
    "def emoped_in_modes(modes):\n",
    "    if pd.isna(modes):\n",
    "        return False\n",
    "    else:\n",
    "        return 'emoped1' in modes\n",
    "\n",
    "def pt_in_modes(modes):\n",
    "    if pd.isna(modes):\n",
    "        return False\n",
    "    else:\n",
    "        return ('BUS' in modes) or ('TRAM' in modes) or ('METRO' in modes)\n",
    "\n",
    "def calculate_mode_shares(df_paths, list_id):\n",
    "    emoped_only = 0\n",
    "    pt_only = 0\n",
    "    combined = 0\n",
    "    for id in list_id[:]:\n",
    "        paths = df_paths[df_paths['ID']==id]\n",
    "        path = paths.iloc[-1]\n",
    "        modes = path['SERVICES']\n",
    "        if emoped_in_modes(modes):\n",
    "            if pt_in_modes(modes):\n",
    "                combined+=1\n",
    "            if (not pt_in_modes(modes)):\n",
    "                emoped_only+=1\n",
    "        else:\n",
    "                pt_only+=1\n",
    "    sum = len(list_id)\n",
    "    return (emoped_only/sum, pt_only/sum, combined/sum)"
   ]
  },
  {
   "cell_type": "code",
   "execution_count": null,
   "id": "a980cea9-c93b-476c-8fa5-2f4b14bed7a5",
   "metadata": {
    "scrolled": true
   },
   "outputs": [],
   "source": [
    "list_id = df_path['ID'].unique()\n",
    "\n",
    "print(calculate_mode_shares(df_path, list_id))"
   ]
  },
  {
   "cell_type": "code",
   "execution_count": null,
   "id": "4194cf06-bfe0-41f3-a61d-123f490b82e4",
   "metadata": {},
   "outputs": [],
   "source": []
  },
  {
   "cell_type": "markdown",
   "id": "9b89d129-bc1f-495d-89e2-c31318ec7d7f",
   "metadata": {},
   "source": [
    "## TTT/TTD"
   ]
  },
  {
   "cell_type": "code",
   "execution_count": null,
   "id": "0a5b0069-caf4-4214-8a5b-7a51df89aa45",
   "metadata": {},
   "outputs": [],
   "source": [
    "def calculate_tt_td(list_id, df_users):\n",
    "    TTT = 0\n",
    "    TTD = 0\n",
    "    count = 0\n",
    "    for id in list_id:\n",
    "        df = df_users[df_users['ID']==id]\n",
    "        if len(df)>0:\n",
    "            TTT += Time(df['TIME'].iloc[-1]).to_seconds() - Time(df['TIME'].iloc[0]).to_seconds()\n",
    "            TTD += df['DISTANCE'].iloc[-1]\n",
    "            count += 1\n",
    "    return (TTT/60/count, TTD*1e-3/count)"
   ]
  },
  {
   "cell_type": "code",
   "execution_count": null,
   "id": "8ffc7176-999f-4636-92fd-db1bd4bccab2",
   "metadata": {},
   "outputs": [],
   "source": [
    "# Compute total travel time/distance\n",
    "\n",
    "print(calculate_tt_td(list_id, df_users))"
   ]
  },
  {
   "cell_type": "code",
   "execution_count": null,
   "id": "1c118347-f79f-4d49-8332-1f7ddab1d3a1",
   "metadata": {},
   "outputs": [],
   "source": []
  },
  {
   "cell_type": "markdown",
   "id": "09527190-ce53-4b1d-80c3-b6f07c7134c0",
   "metadata": {},
   "source": [
    "## Emoped usage"
   ]
  },
  {
   "cell_type": "code",
   "execution_count": null,
   "id": "46e98f98-7252-4864-b851-1c2c94b7fa58",
   "metadata": {},
   "outputs": [],
   "source": [
    "def calculate_tt_td_emoped(df_emoped):\n",
    "    list_emoped = df_emoped['ID'].unique()\n",
    "    TTD = 0\n",
    "    for id in list_emoped:\n",
    "        df = df_emoped[df_emoped['ID']==id]\n",
    "        TTD += df['DISTANCE'].iloc[-1]\n",
    "    return (TTD*1e-3)"
   ]
  },
  {
   "cell_type": "code",
   "execution_count": null,
   "id": "cba1b83c-ca83-4d52-b149-d22cef710ddb",
   "metadata": {},
   "outputs": [],
   "source": [
    "print(calculate_tt_td_emoped(df_emoped1))"
   ]
  },
  {
   "cell_type": "code",
   "execution_count": null,
   "id": "86b1b309-d72b-40a4-9bc3-d30928cf8c82",
   "metadata": {},
   "outputs": [],
   "source": [
    "list_emoped = df_emoped1['ID'].unique()\n",
    "d = []\n",
    "for id in list_emoped:\n",
    "    df = df_emoped1[df_emoped1['ID']==id]\n",
    "    d.append(df['DISTANCE'].iloc[-1])\n",
    "plt.hist(d, bins=50);"
   ]
  },
  {
   "cell_type": "code",
   "execution_count": null,
   "id": "d22e163c-437c-4778-aacc-f69f7dca3c74",
   "metadata": {},
   "outputs": [],
   "source": [
    "sum([d_==0 for d_ in d])"
   ]
  },
  {
   "cell_type": "code",
   "execution_count": null,
   "id": "30fac0f3-36e3-4b26-b94d-3669782ba4e6",
   "metadata": {},
   "outputs": [],
   "source": [
    "x = []\n",
    "y = []\n",
    "x0 = []\n",
    "y0 = []\n",
    "list_emoped = df_emoped1['ID'].unique()\n",
    "TTD = 0\n",
    "for id in list_emoped:\n",
    "    df = df_emoped1[df_emoped1['ID']==id]\n",
    "    p = [float(c) for c in df.POSITION.iloc[-1].split(' ')]\n",
    "    x.append(p[0])\n",
    "    y.append(p[1])\n",
    "    p = [float(c) for c in df.POSITION.iloc[0].split(' ')]\n",
    "    x0.append(p[0])\n",
    "    y0.append(p[1])"
   ]
  },
  {
   "cell_type": "code",
   "execution_count": null,
   "id": "7a5a126e-ccf4-448e-ac36-7ef1b01b1727",
   "metadata": {},
   "outputs": [],
   "source": [
    "fig, ax = plt.subplots(figsize=(8, 8))\n",
    "\n",
    "draw_roads(ax, mmgraph_pt.roads, color='grey', linkwidth=0.1, nodesize=0, draw_stops=False, node_label=False)\n",
    "\n",
    "# Params of the visualization\n",
    "colors = {'BUS': 'green', 'METRO': 'red', 'TRAM': 'skyblue'}\n",
    "\n",
    "for layer in mmgraph_pt.layers.values():\n",
    "    if type(layer) == PublicTransportLayer:\n",
    "        for name, line in layer.lines.items():\n",
    "                draw_line(ax, mmgraph_pt, line, color=colors[name[:name.find('_')]], \n",
    "                          linkwidth=0.4, nodesize=1, line_label=None, label_size=1, alpha=1., stopmarkeredgewidth=0.1)\n",
    "\n",
    "#plt.plot(x_od, y_od, 'dk', alpha=0.4)\n",
    "\n",
    "#plt.plot(x_st, y_st, '*b')\n",
    "\n",
    "#plt.plot(x_nodes, y_nodes, '.m', alpha=0.5, markersize=1)\n",
    "\n",
    "#plt.plot(list_pos_emoped[:,0], list_pos_emoped[:,1], ':.')\n",
    "\n",
    "\"\"\"for o,d in zip(list_origins, list_destinations):\n",
    "    plt.plot([o[0], d[0]], [o[1], d[1]], 'm:', alpha=0.2)\n",
    "    plt.plot(d[0], d[1], 'dm', alpha=0.2)\n",
    "    plt.plot(o[0], o[1], 'om', alpha=0.2)\"\"\"\n",
    "\n",
    "plt.plot(x0, y0, 'xg')\n",
    "plt.plot(x, y, '+k')\n",
    "\n",
    "legend = [Line2D([0, 1], [0, 1], marker='.', markersize=12, markeredgecolor='black', color='skyblue', linewidth=5,\n",
    "            label='Tram line'),\n",
    "          Line2D([0, 1], [0, 1], marker='.', markersize=12, markeredgecolor='black', color='red', linewidth=5,\n",
    "            label='Metro line'),\n",
    "          Line2D([0, 1], [0, 1], marker='.', markersize=12, markeredgecolor='black', color='green', linewidth=5,\n",
    "            label='Bus line'),\n",
    "          Line2D([0, 1], [0, 1], marker='.', markersize=0, markeredgecolor='grey', markerfacecolor='grey', color='grey', linewidth=1,\n",
    "            label='Roads'),\n",
    "          Line2D([0, 1], [0, 1], marker='*', markersize=10, color='b', linewidth=0,\n",
    "            label='Virtual station')]\n",
    "\n",
    "legend = plt.legend(handles=legend)\n",
    "#plt.savefig(params['figdir']+'network.pdf')\n",
    "#plt.xlim([627000,628000])\n",
    "#plt.ylim([5.8095e6, 5.8105e6])"
   ]
  },
  {
   "cell_type": "markdown",
   "id": "aa474ace-a5c4-4bee-8fa5-ec284057f84b",
   "metadata": {},
   "source": [
    "## Station evolution"
   ]
  },
  {
   "cell_type": "code",
   "execution_count": null,
   "id": "5e772bcd-20f5-447a-bd99-28f633f9d7e6",
   "metadata": {},
   "outputs": [],
   "source": [
    "df_emoped1"
   ]
  },
  {
   "cell_type": "code",
   "execution_count": null,
   "id": "2dc63269-da7d-4728-a611-1b41c8b79f47",
   "metadata": {},
   "outputs": [],
   "source": [
    "df_emoped1.POSITION == '635811.252 5802339.273'"
   ]
  },
  {
   "cell_type": "code",
   "execution_count": null,
   "id": "527b1aa4-3292-4043-aac7-83945bcf1b82",
   "metadata": {},
   "outputs": [],
   "source": [
    "df_stations['position'] = df_stations.apply(lambda row: '%.3f %.3f'%(row.x_node, row.y_node), axis=1)"
   ]
  },
  {
   "cell_type": "code",
   "execution_count": null,
   "id": "9ed6952f-f002-49b1-b223-1b29fe0c8eca",
   "metadata": {},
   "outputs": [],
   "source": [
    "df_stations.position"
   ]
  },
  {
   "cell_type": "code",
   "execution_count": null,
   "id": "9d6995bc-6d42-40ff-bb9f-9bf9396e0600",
   "metadata": {},
   "outputs": [],
   "source": [
    "station_emoped = np.zeros((len(df_stations), df_stations.nb_emoped.sum()))\n",
    "nb_emoped_stations = np.zeros((len(df_emoped1.TIME.unique()), len(df_stations)), int)\n",
    "for i_t, t in enumerate(df_emoped1.TIME.unique()):\n",
    "    df = df_emoped1[df_emoped1.TIME==t]\n",
    "    df2 = df[df.STATE=='STOP']\n",
    "    for i,row in df2.iterrows():\n",
    "        i_sta = df_stations.index[df_stations.position==row.POSITION][0]\n",
    "        station_emoped[i_sta, row.ID] = 1\n",
    "    df3 = df[df.STATE!='STOP']\n",
    "    for i,row in df3.iterrows():\n",
    "        station_emoped[:, row.ID] = 0\n",
    "    nb_emoped_stations[i_t] = station_emoped.sum(axis=1)\n",
    "    "
   ]
  },
  {
   "cell_type": "code",
   "execution_count": null,
   "id": "d3ea8a58-3413-4961-a69e-03d13108ad12",
   "metadata": {},
   "outputs": [],
   "source": [
    "df_stations.index[df_stations.position==row.POSITION][0]"
   ]
  },
  {
   "cell_type": "code",
   "execution_count": null,
   "id": "7791c21a-5176-4b11-b280-61c3f57663ec",
   "metadata": {},
   "outputs": [],
   "source": [
    "plt.plot(nb_emoped_stations, alpha=0.5);"
   ]
  },
  {
   "cell_type": "code",
   "execution_count": null,
   "id": "37fc8613-0fea-49c2-a8e0-e0559b9a0638",
   "metadata": {},
   "outputs": [],
   "source": []
  }
 ],
 "metadata": {
  "kernelspec": {
   "display_name": "Python 3 (ipykernel)",
   "language": "python",
   "name": "python3"
  },
  "language_info": {
   "codemirror_mode": {
    "name": "ipython",
    "version": 3
   },
   "file_extension": ".py",
   "mimetype": "text/x-python",
   "name": "python",
   "nbconvert_exporter": "python",
   "pygments_lexer": "ipython3",
   "version": "3.10.8"
  },
  "toc": {
   "base_numbering": 1,
   "nav_menu": {},
   "number_sections": true,
   "sideBar": true,
   "skip_h1_title": false,
   "title_cell": "Table of Contents",
   "title_sidebar": "Contents",
   "toc_cell": false,
   "toc_position": {},
   "toc_section_display": true,
   "toc_window_display": true
  }
 },
 "nbformat": 4,
 "nbformat_minor": 5
}
