{
 "cells": [
  {
   "cell_type": "code",
   "execution_count": null,
   "id": "5e0552b0-92d7-4009-aa68-8ea249d3d224",
   "metadata": {},
   "outputs": [],
   "source": [
    "# Define and save the static transit links"
   ]
  },
  {
   "cell_type": "code",
   "execution_count": null,
   "id": "22994324-0321-41e3-b124-20cc45519a4f",
   "metadata": {},
   "outputs": [],
   "source": [
    "### Imports \n",
    "import os\n",
    "import math\n",
    "import sys\n",
    "import numpy as np\n",
    "import matplotlib.pyplot as plt\n",
    "from matplotlib.lines import Line2D\n",
    "import matplotlib.patches as patches\n",
    "from matplotlib.collections import LineCollection\n",
    "import time\n",
    "\n",
    "import pandas as pd\n",
    "\n",
    "sys.path.append('../../')\n",
    "from script.conversion.bison.coordinates import rd_to_utm\n",
    "from mnms.graph.layers import PublicTransportLayer, MultiLayerGraph, OriginDestinationLayer, SharedVehicleLayer\n",
    "from mnms.generation.roads import generate_pt_line_road, generate_one_zone\n",
    "from mnms.generation.layers import generate_layer_from_roads\n",
    "from mnms.vehicles.veh_type import Tram, Metro, Bus, Bike\n",
    "from mnms.generation.zones import generate_one_zone\n",
    "from mnms.mobility_service.public_transport import PublicTransportMobilityService\n",
    "from mnms.mobility_service.vehicle_sharing import VehicleSharingMobilityService\n",
    "from mnms.time import TimeTable, Dt, Time\n",
    "from mnms.io.graph import load_graph, save_graph, load_odlayer, save_transit_links\n",
    "from mnms.tools.render import draw_roads, draw_line, draw_odlayer, draw_path\n",
    "from mnms.tools.geometry import points_in_polygon, get_bounding_box"
   ]
  },
  {
   "cell_type": "code",
   "execution_count": null,
   "id": "dafa8fc3-fdbb-4b99-b83b-84d60fd15405",
   "metadata": {},
   "outputs": [],
   "source": []
  },
  {
   "cell_type": "code",
   "execution_count": null,
   "id": "f79c15e6-6830-41a5-b4be-ae5b35fee64e",
   "metadata": {},
   "outputs": [],
   "source": [
    "### Parameters\n",
    "\n",
    "# Files and directories\n",
    "current_dir = os.getcwd()\n",
    "indir = current_dir + '/inputs/'\n",
    "outdir = current_dir + '/outputs/'\n",
    "\n",
    "#coord_csv_filepath = indir + 'KV1_GVB_2609_2/Csv/POINT.csv' # file with coordinates of the network\n",
    "#amsterdam_json_filepath = indir + 'new_network.json' # mlgraph with the road network only\n",
    "amsterdam_json_filepath_pt_transit = indir + \"network_pt_transit.json\"\n",
    "transit_path = indir + \"transit.json\"\n",
    "ams_dmd_path = indir + 'test_all_in_highway_7h_9h.csv' # dmd inside ringroad 7-9am\n",
    "\n",
    "# Transit connection (m)\n",
    "DIST_MAX = 500\n",
    "DIST_CONNECTION_OD = 200\n",
    "DIST_CONNECTION_PT = 100\n",
    "DIST_CONNECTION_MIX = 100"
   ]
  },
  {
   "cell_type": "code",
   "execution_count": null,
   "id": "44806c5b-50e3-41cb-8590-37a3e77b7ab5",
   "metadata": {},
   "outputs": [],
   "source": [
    "### Load network\n",
    "\n",
    "mmgraph_roads = load_graph(indir + \"new_network.json\") # road only\n",
    "mmgraph_pt = load_graph(indir + \"network_pt.json\")\n",
    "# odlayer = load_odlayer(indir + \"od_layer_clustered_200.json\")\n",
    "df_emoped1 = pd.read_csv(indir + 'init_pos_emoped.csv')\n",
    "df_emoped2 = pd.read_csv(indir + 'init_pos_emoped.csv')"
   ]
  },
  {
   "cell_type": "code",
   "execution_count": null,
   "id": "024353ef-ae66-45ea-91f9-20a1fb5e899c",
   "metadata": {},
   "outputs": [],
   "source": [
    "### Generate layers\n",
    "emoped1 = VehicleSharingMobilityService(\"emoped1\", free_floating_possible=True, dt_matching=0)\n",
    "emoped2 = VehicleSharingMobilityService(\"emoped2\", free_floating_possible=True, dt_matching=0)\n",
    "emoped_layer1 = generate_layer_from_roads(mmgraph_roads.roads, 'EMOPEDLayer1', SharedVehicleLayer, Bike, 7, [emoped1])\n",
    "emoped_layer2 = generate_layer_from_roads(mmgraph_roads.roads, 'EMOPEDLayer2', SharedVehicleLayer, Bike, 7, [emoped2])\n",
    "emoped_layer1.add_connected_layers([\"BUSLayer\", \"TRAMLayer\", \"METROLayer\"])\n",
    "emoped_layer2.add_connected_layers([\"BUSLayer\", \"TRAMLayer\", \"METROLayer\"])\n",
    "\n",
    "# Add stations\n",
    "for nid in df_emoped1['closest_node'][:]:\n",
    "    emoped1.init_free_floating_vehicles(nid, 1)\n",
    "for nid in df_emoped2['closest_node'][:]:\n",
    "    emoped2.init_free_floating_vehicles(nid, 1)"
   ]
  },
  {
   "cell_type": "code",
   "execution_count": null,
   "id": "4c02eab6-1f49-40d1-8f37-4fb8fcab8b04",
   "metadata": {},
   "outputs": [],
   "source": []
  },
  {
   "cell_type": "code",
   "execution_count": null,
   "id": "712897a5-a90b-45c9-b97a-f6435aaff1c5",
   "metadata": {},
   "outputs": [],
   "source": []
  },
  {
   "cell_type": "code",
   "execution_count": null,
   "id": "f6927a86-8c56-4836-85ac-b7780dbcfd7c",
   "metadata": {},
   "outputs": [],
   "source": [
    "### Connect layers\n",
    "mmgraph = MultiLayerGraph([mmgraph_pt.layers[\"BUSLayer\"], mmgraph_pt.layers[\"TRAMLayer\"], mmgraph_pt.layers[\"METROLayer\"],\n",
    "                           emoped_layer1, emoped_layer2], odlayer)#, DIST_CONNECTION_OD)"
   ]
  },
  {
   "cell_type": "code",
   "execution_count": null,
   "id": "a4b7db18-1d9b-4783-8103-234c9e734c28",
   "metadata": {},
   "outputs": [],
   "source": [
    "# Among PT\n",
    "print('inter PT')\n",
    "mmgraph.custom_connect_inter_layers([\"BUSLayer\", \"TRAMLayer\", \"METROLayer\"], DIST_CONNECTION_PT,\n",
    "                            ensure_connect=True, max_connect_dist=DIST_MAX)\n",
    "print('intra Bus')\n",
    "mmgraph.custom_connect_intra_layer(\"BUSLayer\", DIST_CONNECTION_PT, same_line=False)\n",
    "print('intra Tram')\n",
    "mmgraph.custom_connect_intra_layer(\"TRAMLayer\", DIST_CONNECTION_PT, same_line=False)\n",
    "print('intra Metro')\n",
    "mmgraph.custom_connect_intra_layer(\"METROLayer\", DIST_CONNECTION_PT, same_line=False)"
   ]
  },
  {
   "cell_type": "code",
   "execution_count": null,
   "id": "9eed6eab-b52e-411c-8473-4a893843afcb",
   "metadata": {},
   "outputs": [],
   "source": [
    "# Between PT and emoped\n",
    "mmgraph.custom_connect_inter_layers([\"EMOPEDLayer1\", \"BUSLayer\"], DIST_CONNECTION_MIX,\n",
    "                            ensure_connect=True, max_connect_dist=DIST_MAX)\n",
    "mmgraph.custom_connect_inter_layers([\"EMOPEDLayer2\", \"BUSLayer\"], DIST_CONNECTION_MIX,\n",
    "                            ensure_connect=True, max_connect_dist=DIST_MAX)\n",
    "mmgraph.custom_connect_inter_layers([\"EMOPEDLayer1\", \"TRAMLayer\"], DIST_CONNECTION_MIX,\n",
    "                            ensure_connect=True, max_connect_dist=DIST_MAX)\n",
    "mmgraph.custom_connect_inter_layers([\"EMOPEDLayer2\", \"TRAMLayer\"], DIST_CONNECTION_MIX,\n",
    "                            ensure_connect=True, max_connect_dist=DIST_MAX)\n",
    "mmgraph.custom_connect_inter_layers([\"EMOPEDLayer1\", \"METROLayer\"], DIST_CONNECTION_MIX,\n",
    "                            ensure_connect=True, max_connect_dist=DIST_MAX)\n",
    "mmgraph.custom_connect_inter_layers([\"EMOPEDLayer2\", \"METROLayer\"], DIST_CONNECTION_MIX,\n",
    "                            ensure_connect=True, max_connect_dist=DIST_MAX)"
   ]
  },
  {
   "cell_type": "code",
   "execution_count": null,
   "id": "4233d934-21eb-41c5-aaed-f5edaa8452ae",
   "metadata": {},
   "outputs": [],
   "source": [
    "### Save graph with transit\n",
    "t1 = time.time()\n",
    "# save_graph(mmgraph, amsterdam_json_filepath_pt_transit)\n",
    "save_transit_links(mmgraph, transit_path)\n",
    "t2 = time.time()\n",
    "print('Files saved', t2-t1)"
   ]
  },
  {
   "cell_type": "code",
   "execution_count": null,
   "id": "18a32711-09a8-4165-a32c-63958ffcafb2",
   "metadata": {},
   "outputs": [],
   "source": []
  },
  {
   "cell_type": "code",
   "execution_count": null,
   "id": "eaa75b46-9fea-4a83-ad6b-c1782732cce5",
   "metadata": {},
   "outputs": [],
   "source": [
    "### Stats and visual"
   ]
  },
  {
   "cell_type": "code",
   "execution_count": null,
   "id": "fc180a8f-9ebd-4924-8357-e4421c0c9f50",
   "metadata": {},
   "outputs": [],
   "source": [
    "nb_layers = len(mmgraph.layers.keys())\n",
    "mat_transit = np.zeros((nb_layers,nb_layers))\n",
    "io=0\n",
    "for olayer in mmgraph.layers.keys():\n",
    "    id=0\n",
    "    for dlayer in mmgraph.layers.keys():\n",
    "        tr_links = mmgraph.transitlayer.links[olayer][dlayer]\n",
    "        mat_transit[io,id] = len(tr_links)\n",
    "        id+=1\n",
    "    io+=1\n",
    "        \n",
    "print(mmgraph.layers.keys(),'\\n', mat_transit)"
   ]
  },
  {
   "cell_type": "code",
   "execution_count": null,
   "id": "9568b278-c5cc-495f-b7b2-b0f3ff22e674",
   "metadata": {},
   "outputs": [],
   "source": [
    "# Params of the visualization\n",
    "colors = {'BUS': 'green', 'METRO': 'red', 'TRAM': 'skyblue'}\n",
    "\n",
    "fig, ax = plt.subplots(figsize=(15, 15))\n",
    "draw_roads(ax, mmgraph.roads, color='grey', linkwidth=0.1, nodesize=0, draw_stops=False, node_label=False)\n",
    "\n",
    "for layer in mmgraph.layers.values():\n",
    "    if type(layer) == PublicTransportLayer:\n",
    "        for name, line in layer.lines.items():\n",
    "                draw_line(ax, mmgraph, line, color=colors[name[:name.find('_')]], \n",
    "                          linkwidth=0.4, nodesize=1, line_label=None, label_size=1, alpha=1., stopmarkeredgewidth=0.1)\n",
    "print('transit links')\n",
    "t1 = time.time()\n",
    "tr_lines = []\n",
    "for olayer in ['METROLayer']: #['METROLayer', 'TRAMLayer']:#mmgraph.layers.keys():\n",
    "    for dlayer in ['METROLayer']:# ['METROLayer', 'TRAMLayer']:#mmgraph.layers.keys():\n",
    "            tr_links = mmgraph.transitlayer.links[olayer][dlayer]\n",
    "            for lid in tr_links:\n",
    "                onid = mmgraph.graph.links[lid].downstream\n",
    "                dnid = mmgraph.graph.links[lid].upstream\n",
    "                onode_pos = mmgraph.graph.nodes[onid].position\n",
    "                dnode_pos = mmgraph.graph.nodes[dnid].position\n",
    "                tr_lines.append([onode_pos, dnode_pos])\n",
    "t2 = time.time()\n",
    "print('---gather lines', t2-t1)\n",
    "line_segment = LineCollection(tr_lines, linestyles='-', colors='m')\n",
    "ax.add_collection(line_segment)\n",
    "t3 = time.time()\n",
    "print('---plot lines', t3-t2)\n",
    "        \n",
    "\n",
    "legend = [Line2D([0, 1], [0, 1], marker='.', markersize=12, markeredgecolor='black', color='skyblue', linewidth=5,\n",
    "            label='Tram line'),\n",
    "          Line2D([0, 1], [0, 1], marker='.', markersize=12, markeredgecolor='black', color='red', linewidth=5,\n",
    "            label='Metro line'),\n",
    "          Line2D([0, 1], [0, 1], marker='.', markersize=12, markeredgecolor='black', color='green', linewidth=5,\n",
    "            label='Bus line'),\n",
    "          Line2D([0, 1], [0, 1], marker='.', markersize=0, markeredgecolor='grey', markerfacecolor='grey', color='black', linewidth=1,\n",
    "            label='Roads')]\n",
    "\n",
    "\n",
    "\n",
    "legend = plt.legend(handles=legend)\n",
    "legend.get_frame().set_alpha(0.92)"
   ]
  },
  {
   "cell_type": "code",
   "execution_count": null,
   "id": "d634b554-8b1e-42d7-a7e7-d516b852e2a7",
   "metadata": {},
   "outputs": [],
   "source": [
    "line_segment = LineCollection(tr_lines, linestyles='-', colors='m')\n",
    "ax.add_collection(line_segment)"
   ]
  },
  {
   "cell_type": "code",
   "execution_count": null,
   "id": "c953029d-7a31-4301-aa48-9ce3c3cb325a",
   "metadata": {},
   "outputs": [],
   "source": []
  },
  {
   "cell_type": "code",
   "execution_count": null,
   "id": "cc7e481e-df0a-4f81-b9e3-64a2a6f1b85f",
   "metadata": {},
   "outputs": [],
   "source": [
    "mmgraph.layers['BUSLayer'].lines['BUS_63_DIR1']['nodes']"
   ]
  },
  {
   "cell_type": "code",
   "execution_count": null,
   "id": "b7c12c38-7c10-476c-bc10-ea26eca06318",
   "metadata": {},
   "outputs": [],
   "source": [
    "nid = 'BUS_63_DIR1_BUS_63_DIR1_7'\n",
    "line = [l for l in mmgraph.layers['BUSLayer'].lines.keys() if nid in mmgraph.layers['BUSLayer'].lines[l]['nodes']][0]\n",
    "print(line[:-1])\n"
   ]
  },
  {
   "cell_type": "code",
   "execution_count": null,
   "id": "77d8fd4f-0452-439f-a96e-9816412d0b15",
   "metadata": {},
   "outputs": [],
   "source": [
    "mmgraph.layers['METROLayer'].lines.keys()"
   ]
  },
  {
   "cell_type": "code",
   "execution_count": null,
   "id": "3f004fc4-b22c-4108-b72f-c69e5b2e12cf",
   "metadata": {},
   "outputs": [],
   "source": [
    "save_transit_links"
   ]
  }
 ],
 "metadata": {
  "kernelspec": {
   "display_name": "Python 3 (ipykernel)",
   "language": "python",
   "name": "python3"
  },
  "language_info": {
   "codemirror_mode": {
    "name": "ipython",
    "version": 3
   },
   "file_extension": ".py",
   "mimetype": "text/x-python",
   "name": "python",
   "nbconvert_exporter": "python",
   "pygments_lexer": "ipython3",
   "version": "3.10.8"
  }
 },
 "nbformat": 4,
 "nbformat_minor": 5
}
