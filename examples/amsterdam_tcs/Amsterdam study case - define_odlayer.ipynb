{
 "cells": [
  {
   "cell_type": "code",
   "execution_count": null,
   "id": "3c3c8b96-87d0-4d3d-8d7a-14bafc6baa34",
   "metadata": {},
   "outputs": [],
   "source": [
    "#Vizualize demand spatial distribution in Amsterdam emoped pilot"
   ]
  },
  {
   "cell_type": "code",
   "execution_count": null,
   "id": "80d75a1a-e6f5-4e33-bce4-d8aa3541e398",
   "metadata": {},
   "outputs": [],
   "source": [
    "### Imports \n",
    "import os\n",
    "import math\n",
    "import sys\n",
    "import numpy as np\n",
    "import matplotlib.pyplot as plt\n",
    "from matplotlib.lines import Line2D\n",
    "import matplotlib.patches as patches\n",
    "import json\n",
    "\n",
    "import pandas as pd\n",
    "import re\n",
    "import xml.etree.ElementTree as ET\n",
    "\n",
    "sys.path.append('../../')\n",
    "from script.conversion.bison.coordinates import rd_to_utm\n",
    "from mnms.graph.layers import PublicTransportLayer, MultiLayerGraph, OriginDestinationLayer\n",
    "from mnms.generation.roads import generate_pt_line_road, generate_one_zone\n",
    "from mnms.generation.layers import generate_bbox_origin_destination_layer\n",
    "from mnms.vehicles.veh_type import Tram, Metro, Bus\n",
    "from mnms.generation.zones import generate_one_zone\n",
    "from mnms.mobility_service.public_transport import PublicTransportMobilityService\n",
    "from mnms.time import TimeTable, Dt, Time\n",
    "from mnms.io.graph import load_graph, save_graph, save_odlayer\n",
    "from mnms.tools.render import draw_roads, draw_line, draw_odlayer\n",
    "from mnms.tools.geometry import points_in_polygon, get_bounding_box\n"
   ]
  },
  {
   "cell_type": "code",
   "execution_count": null,
   "id": "7413ef47-56f9-4b96-a5c1-5631f64909a2",
   "metadata": {},
   "outputs": [],
   "source": [
    "### Parameters\n",
    "\n",
    "# Files and directories\n",
    "current_dir = os.getcwd()\n",
    "indir = current_dir + '/inputs/'\n",
    "outdir = current_dir + '/outputs/'\n",
    "f = open('params.json')\n",
    "params = json.load(f)\n",
    "\n",
    "amsterdam_json_filepath = indir + params['fn_network'] # mlgraph with the road network only\n",
    "ams_dmd_path = indir + params['fn_demand'] #'custom_demand_4-23.csv' # dmd for odlayer"
   ]
  },
  {
   "cell_type": "code",
   "execution_count": null,
   "id": "d00f6db5-a778-4d3a-b2e5-40ffa82e8b4f",
   "metadata": {},
   "outputs": [],
   "source": [
    "### Get the MLGraph without TCs \n",
    "amsterdam_graph = load_graph(amsterdam_json_filepath)\n",
    "roads = amsterdam_graph.roads"
   ]
  },
  {
   "cell_type": "code",
   "execution_count": null,
   "id": "ae579164-5f03-4e1c-a1c1-8b539bd8554e",
   "metadata": {},
   "outputs": [],
   "source": [
    "# Load dmd\n",
    "db_dmd = pd.read_csv(ams_dmd_path, sep=';')"
   ]
  },
  {
   "cell_type": "code",
   "execution_count": null,
   "id": "837902f8-dc29-40fc-97bc-460ecbc285eb",
   "metadata": {},
   "outputs": [],
   "source": [
    "db_dmd"
   ]
  },
  {
   "cell_type": "code",
   "execution_count": null,
   "id": "1e6c1fc9-aaa6-4c6a-9751-24021a07b853",
   "metadata": {},
   "outputs": [],
   "source": [
    "nb_dmd = len(db_dmd)\n",
    "origins = np.zeros((len(db_dmd),2))\n",
    "destinations = np.zeros((len(db_dmd),2))\n",
    "for i, row in db_dmd[:].iterrows():\n",
    "    origins[i] = [float(o) for o in row['ORIGIN'].split(' ')]\n",
    "    destinations[i] = [float(d) for d in row['DESTINATION'].split(' ')]"
   ]
  },
  {
   "cell_type": "markdown",
   "id": "98fa3453-577f-480a-91c6-7a6f25650dfd",
   "metadata": {},
   "source": [
    "# Cluster"
   ]
  },
  {
   "cell_type": "code",
   "execution_count": null,
   "id": "9b795407-4d1f-4c4a-ae5e-9b85be7306a8",
   "metadata": {},
   "outputs": [],
   "source": [
    "# Create clusters of OD\n",
    "from sklearn.cluster import KMeans"
   ]
  },
  {
   "cell_type": "code",
   "execution_count": null,
   "id": "dbd7afca-b303-4796-a67b-93100c6f0f9d",
   "metadata": {},
   "outputs": [],
   "source": [
    "all_od = np.zeros((2*nb_dmd,2))\n",
    "all_od[:nb_dmd] = origins\n",
    "all_od[nb_dmd:] = destinations\n",
    "\n",
    "nb_clusters = 200\n",
    "\n",
    "kmeans = KMeans(n_clusters = nb_clusters, random_state=0).fit([[x,y] for (x,y) in all_od])#, sample_weight=df_centroids['weight'].values)\\n\",\n",
    "\n",
    "\n",
    "\n"
   ]
  },
  {
   "cell_type": "code",
   "execution_count": null,
   "id": "152de007-80cd-4503-a666-34151f6e77f2",
   "metadata": {},
   "outputs": [],
   "source": [
    "od_clustered = kmeans.cluster_centers_"
   ]
  },
  {
   "cell_type": "code",
   "execution_count": null,
   "id": "7b27e88f-47fa-49eb-9b38-224dca1b0c9a",
   "metadata": {},
   "outputs": [],
   "source": [
    "fig, ax = plt.subplots(figsize=(15, 15))\n",
    "draw_roads(ax, roads, color='grey', linkwidth=0.1, nodesize=0, draw_stops=False, node_label=False)\n",
    "\n",
    "plt.plot(origins[:,0], origins[:,1], 'b.', alpha=0.5)\n",
    "plt.plot(destinations[:,0], destinations[:,1], 'r.', alpha=0.5)\n",
    "plt.plot(od_clustered[:,0], od_clustered[:,1], 'gd', alpha=0.5)\n",
    "plt.xlim([624e3, 635e3])\n",
    "plt.ylim([5.795e6, 5.8125e6])"
   ]
  },
  {
   "cell_type": "code",
   "execution_count": null,
   "id": "a447fc99-4e84-4853-8ce2-03c82ac14be0",
   "metadata": {},
   "outputs": [],
   "source": [
    "# Save odlayer\n",
    "odlayer = OriginDestinationLayer()\n",
    "\n",
    "for i, od in enumerate(od_clustered):\n",
    "    odlayer.create_origin_node(f\"ORIGIN_{i}\", od)\n",
    "    odlayer.create_destination_node(f\"DESTINATION_{i}\", od)"
   ]
  },
  {
   "cell_type": "code",
   "execution_count": null,
   "id": "0d0f1eae-9bf7-40fc-9fb5-21dac824b6b8",
   "metadata": {},
   "outputs": [],
   "source": [
    "odlayer.origins"
   ]
  },
  {
   "cell_type": "code",
   "execution_count": null,
   "id": "38ac37b5-fe71-4247-a3b6-fd52a0e0dd31",
   "metadata": {},
   "outputs": [],
   "source": [
    "#save_odlayer(odlayer, indir + f'od_layer_clustered_{nb_clusters}.json')"
   ]
  },
  {
   "cell_type": "markdown",
   "id": "805cb4c4-7349-4dbc-9c2b-bc56b13d8175",
   "metadata": {},
   "source": [
    "# OD points"
   ]
  },
  {
   "cell_type": "code",
   "execution_count": null,
   "id": "f30d6e8d-268a-4742-9fd0-783157d98f3e",
   "metadata": {},
   "outputs": [],
   "source": [
    "origins_str = [str(p[0])+','+str(p[1]) for p in origins]\n",
    "destinations_str = [str(p[0])+','+str(p[1]) for p in destinations]"
   ]
  },
  {
   "cell_type": "code",
   "execution_count": null,
   "id": "c7c27828-cd13-40f8-b2ba-da0c828affb2",
   "metadata": {},
   "outputs": [],
   "source": [
    "points_str = np.unique(origins_str + destinations_str)\n",
    "points = [[float(pp) for pp in p.split(',')] for p in points_str]"
   ]
  },
  {
   "cell_type": "code",
   "execution_count": null,
   "id": "74d43a05-c6f9-4d6e-b8b1-e77ccae87115",
   "metadata": {},
   "outputs": [],
   "source": [
    "len(points)"
   ]
  },
  {
   "cell_type": "code",
   "execution_count": null,
   "id": "14c1f0ef-0ee1-4030-9434-6e2a247e602c",
   "metadata": {},
   "outputs": [],
   "source": [
    "# Save odlayer\n",
    "odlayer = OriginDestinationLayer()\n",
    "\n",
    "for i, od in enumerate(points):\n",
    "    odlayer.create_origin_node(f\"ORIGIN_{i}\", od)\n",
    "    odlayer.create_destination_node(f\"DESTINATION_{i}\", od)"
   ]
  },
  {
   "cell_type": "code",
   "execution_count": null,
   "id": "59ddab6e-3320-4014-8cd2-a4e430941dfe",
   "metadata": {},
   "outputs": [],
   "source": [
    "odlayer.origins"
   ]
  },
  {
   "cell_type": "code",
   "execution_count": null,
   "id": "6efed56d-8a9a-4fb9-840d-6fcb58f796bd",
   "metadata": {},
   "outputs": [],
   "source": [
    "save_odlayer(odlayer, indir + 'od_layer_od.json')"
   ]
  },
  {
   "cell_type": "code",
   "execution_count": null,
   "id": "3a9412da-ac93-4185-ad6f-7efd552f5826",
   "metadata": {},
   "outputs": [],
   "source": []
  }
 ],
 "metadata": {
  "kernelspec": {
   "display_name": "Python 3 (ipykernel)",
   "language": "python",
   "name": "python3"
  },
  "language_info": {
   "codemirror_mode": {
    "name": "ipython",
    "version": 3
   },
   "file_extension": ".py",
   "mimetype": "text/x-python",
   "name": "python",
   "nbconvert_exporter": "python",
   "pygments_lexer": "ipython3",
   "version": "3.10.13"
  }
 },
 "nbformat": 4,
 "nbformat_minor": 5
}
