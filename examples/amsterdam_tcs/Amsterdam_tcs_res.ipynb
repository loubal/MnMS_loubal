{
 "cells": [
  {
   "cell_type": "code",
   "execution_count": null,
   "id": "5e0552b0-92d7-4009-aa68-8ea249d3d224",
   "metadata": {},
   "outputs": [],
   "source": [
    "# Extract results"
   ]
  },
  {
   "cell_type": "code",
   "execution_count": null,
   "id": "22994324-0321-41e3-b124-20cc45519a4f",
   "metadata": {},
   "outputs": [],
   "source": [
    "### Imports \n",
    "import os\n",
    "import math\n",
    "import sys\n",
    "import numpy as np\n",
    "import matplotlib.pyplot as plt\n",
    "from matplotlib.lines import Line2D\n",
    "import matplotlib.patches as patches\n",
    "from matplotlib.collections import LineCollection\n",
    "import time\n",
    "import json\n",
    "\n",
    "import pandas as pd\n",
    "\n",
    "sys.path.append('../../')\n",
    "from script.conversion.bison.coordinates import rd_to_utm\n",
    "from mnms.graph.layers import PublicTransportLayer, MultiLayerGraph, OriginDestinationLayer, SharedVehicleLayer\n",
    "from mnms.generation.roads import generate_pt_line_road, generate_one_zone\n",
    "from mnms.generation.layers import generate_layer_from_roads\n",
    "from mnms.vehicles.veh_type import Tram, Metro, Bus, Bike\n",
    "from mnms.generation.zones import generate_one_zone\n",
    "from mnms.mobility_service.public_transport import PublicTransportMobilityService\n",
    "from mnms.mobility_service.vehicle_sharing import VehicleSharingMobilityService\n",
    "from mnms.time import TimeTable, Dt, Time\n",
    "from mnms.io.graph import load_graph, save_graph, load_odlayer, save_transit_links\n",
    "from mnms.tools.render import draw_roads, draw_line, draw_odlayer, draw_path, draw_veh_activity\n",
    "#from mnms.tools.geometry import points_in_polygon, get_bounding_box\n",
    "from mnms.time import Time"
   ]
  },
  {
   "cell_type": "code",
   "execution_count": null,
   "id": "dafa8fc3-fdbb-4b99-b83b-84d60fd15405",
   "metadata": {},
   "outputs": [],
   "source": []
  },
  {
   "cell_type": "code",
   "execution_count": null,
   "id": "f79c15e6-6830-41a5-b4be-ae5b35fee64e",
   "metadata": {},
   "outputs": [],
   "source": [
    "### Parameters\n",
    "\n",
    "# Files and directories\n",
    "f = open('params.json')\n",
    "params = json.load(f)\n",
    "\n",
    "current_dir = os.getcwd()\n",
    "indir = current_dir + '/inputs/'\n",
    "outdir = current_dir + '/outputs/'\n",
    "\n",
    "#coord_csv_filepath = indir + 'KV1_GVB_2609_2/Csv/POINT.csv' # file with coordinates of the network\n",
    "#amsterdam_json_filepath = indir + 'new_network.json' # mlgraph with the road network only\n",
    "#amsterdam_json_filepath_pt_transit = indir + \"network_pt_transit.json\"\n",
    "#transit_path = indir + \"transit.json\""
   ]
  },
  {
   "cell_type": "code",
   "execution_count": null,
   "id": "44806c5b-50e3-41cb-8590-37a3e77b7ab5",
   "metadata": {},
   "outputs": [],
   "source": [
    "### Load network\n",
    "\n",
    "mmgraph_pt = load_graph(indir + params[\"fn_network\"])\n",
    "\n",
    "### Load demand\n",
    "\n",
    "df_dmd = pd.read_csv(indir + params['fn_demand'], sep=\";\")\n",
    "\n",
    "### Load odlayer\n",
    "odlayer = load_odlayer(indir + params[\"fn_odlayer\"])\n",
    "x_od = []\n",
    "y_od = []\n",
    "for i in odlayer.origins.items():\n",
    "    x = i[1][0]\n",
    "    y = i[1][1]\n",
    "    x_od.append(x)\n",
    "    y_od.append(y)"
   ]
  },
  {
   "cell_type": "code",
   "execution_count": null,
   "id": "295e1909-0855-459f-b816-cc995bddcec4",
   "metadata": {},
   "outputs": [],
   "source": [
    "## Load results\n",
    "\n",
    "df_path = pd.read_csv(outdir+'path.csv', sep=\";\")\n",
    "df_users = pd.read_csv(outdir+'users.csv', sep=\";\")\n",
    "df_flow = pd.read_csv(outdir+'flow.csv', sep=\";\")"
   ]
  },
  {
   "cell_type": "markdown",
   "id": "50f76cf8-ab06-42e4-adca-708eb7340b3f",
   "metadata": {},
   "source": [
    "# Plot network"
   ]
  },
  {
   "cell_type": "code",
   "execution_count": null,
   "id": "f61cfc2f-f7ae-47a7-80ff-1390cf7b9abc",
   "metadata": {},
   "outputs": [],
   "source": [
    "fig, ax = plt.subplots(figsize=(8, 8))\n",
    "\n",
    "draw_roads(ax, mmgraph_pt.roads, color='grey', linkwidth=0.1, nodesize=0, draw_stops=False, node_label=False)\n",
    "\n",
    "# Params of the visualization\n",
    "colors = {'BUS': 'green', 'METRO': 'red', 'TRAM': 'skyblue'}\n",
    "\n",
    "for layer in mmgraph_pt.layers.values():\n",
    "    if type(layer) == PublicTransportLayer:\n",
    "        for name, line in layer.lines.items():\n",
    "                draw_line(ax, mmgraph_pt, line, color=colors[name[:name.find('_')]], \n",
    "                          linkwidth=0.4, nodesize=1, line_label=None, label_size=1, alpha=1., stopmarkeredgewidth=0.1)\n",
    "\n",
    "legend = [Line2D([0, 1], [0, 1], marker='.', markersize=12, markeredgecolor='black', color='skyblue', linewidth=5,\n",
    "            label='Tram line'),\n",
    "          Line2D([0, 1], [0, 1], marker='.', markersize=12, markeredgecolor='black', color='red', linewidth=5,\n",
    "            label='Metro line'),\n",
    "          Line2D([0, 1], [0, 1], marker='.', markersize=12, markeredgecolor='black', color='green', linewidth=5,\n",
    "            label='Bus line'),\n",
    "          Line2D([0, 1], [0, 1], marker='.', markersize=0, markeredgecolor='grey', markerfacecolor='grey', color='grey', linewidth=1,\n",
    "            label='Roads')]\n",
    "\n",
    "legend = plt.legend(handles=legend)\n",
    "#plt.savefig(params['figdir']+'network.pdf')\n",
    "#plt.xlim([627000,628000])\n",
    "#plt.ylim([5.8095e6, 5.8105e6])"
   ]
  },
  {
   "cell_type": "code",
   "execution_count": null,
   "id": "8c254f81-f859-48be-b8e5-a1f70997a744",
   "metadata": {},
   "outputs": [],
   "source": []
  },
  {
   "cell_type": "markdown",
   "id": "2b123bcb-3e3f-45c4-90a4-3e1b7e23cabc",
   "metadata": {},
   "source": [
    "# Traffic dynamics"
   ]
  },
  {
   "cell_type": "code",
   "execution_count": null,
   "id": "4315803f-68d4-4685-9a79-75cf0a757d11",
   "metadata": {},
   "outputs": [],
   "source": [
    "df_flow"
   ]
  },
  {
   "cell_type": "code",
   "execution_count": null,
   "id": "5909e828-d42c-4194-8d36-aaaa870b79b1",
   "metadata": {},
   "outputs": [],
   "source": [
    "df_cars = df_flow[df_flow.VEHICLE_TYPE==\"CAR\"]"
   ]
  },
  {
   "cell_type": "code",
   "execution_count": null,
   "id": "f77907ec-ee20-4a21-93ec-59ab1549ba46",
   "metadata": {},
   "outputs": [],
   "source": [
    "plt.plot\n",
    "\n",
    "fig, ax1 = plt.subplots()\n",
    "color = 'tab:red'\n",
    "ax1.set_xlabel('time')\n",
    "ax1.set_ylabel('speed', color=color)\n",
    "ax1.plot(df_cars.SPEED.values, color=color)\n",
    "ax1.tick_params(axis='y', labelcolor=color)\n",
    "\n",
    "ax2 = ax1.twinx()  # instantiate a second axes that shares the same x-axis\n",
    "\n",
    "color = 'tab:blue'\n",
    "ax2.set_ylabel('accumulation', color=color)  # we already handled the x-label with ax1\n",
    "ax2.plot(df_cars.ACCUMULATION.values, color=color)\n",
    "ax2.tick_params(axis='y', labelcolor=color)\n",
    "\n",
    "fig.tight_layout()  # otherwise the right y-label is slightly clipped\n",
    "plt.show()"
   ]
  },
  {
   "cell_type": "code",
   "execution_count": null,
   "id": "74bc51e7-e66c-4055-9d60-bd4e3650a4c3",
   "metadata": {},
   "outputs": [],
   "source": []
  },
  {
   "cell_type": "markdown",
   "id": "292a7886-ba2c-4b75-ba66-2808416e8808",
   "metadata": {},
   "source": [
    "## Modes shares"
   ]
  },
  {
   "cell_type": "code",
   "execution_count": null,
   "id": "c4eb441e-c60e-46ec-8a50-d13971ab509e",
   "metadata": {},
   "outputs": [],
   "source": [
    "def car_in_modes(modes):\n",
    "    if pd.isna(modes):\n",
    "        return False\n",
    "    else:\n",
    "        return 'CAR' in modes\n",
    "\n",
    "def pt_in_modes(modes):\n",
    "    if pd.isna(modes):\n",
    "        return False\n",
    "    else:\n",
    "        return ('BUS' in modes) or ('TRAM' in modes) or ('METRO' in modes)\n",
    "\n",
    "def bike_in_modes(modes):\n",
    "    if pd.isna(modes):\n",
    "        return False\n",
    "    else:\n",
    "        return 'BIKE' in modes\n",
    "\n",
    "def calculate_mode_shares(df_paths, list_id):\n",
    "    car = 0\n",
    "    pt = 0\n",
    "    bike = 0\n",
    "    no_match = 0\n",
    "    df_id = df_paths.set_index('ID')\n",
    "    for id in list_id:\n",
    "        modes = df_id.loc[id, 'SERVICES']\n",
    "        if car_in_modes(modes):\n",
    "            car += 1\n",
    "        elif pt_in_modes(modes):\n",
    "            pt += 1\n",
    "        elif bike_in_modes(modes):\n",
    "            bike += 1\n",
    "        else:\n",
    "            no_match+=1\n",
    "    sum = len(list_id)\n",
    "    return (car/sum, pt/sum, bike/sum, no_match/sum)"
   ]
  },
  {
   "cell_type": "code",
   "execution_count": null,
   "id": "a980cea9-c93b-476c-8fa5-2f4b14bed7a5",
   "metadata": {
    "scrolled": true
   },
   "outputs": [],
   "source": [
    "list_id = df_path['ID'].unique()\n",
    "\n",
    "print(calculate_mode_shares(df_path, list_id))"
   ]
  },
  {
   "cell_type": "code",
   "execution_count": null,
   "id": "4194cf06-bfe0-41f3-a61d-123f490b82e4",
   "metadata": {},
   "outputs": [],
   "source": [
    "df_id = df_path.set_index('ID')\n",
    "for id in list_id:\n",
    "    modes = df_id.loc[id, 'SERVICES']"
   ]
  },
  {
   "cell_type": "code",
   "execution_count": null,
   "id": "3c79ec77-dd4a-4ccd-8c61-379de7b288f5",
   "metadata": {},
   "outputs": [],
   "source": [
    "modes"
   ]
  },
  {
   "cell_type": "markdown",
   "id": "9b89d129-bc1f-495d-89e2-c31318ec7d7f",
   "metadata": {},
   "source": [
    "## TTT/TTD"
   ]
  },
  {
   "cell_type": "code",
   "execution_count": null,
   "id": "0a5b0069-caf4-4214-8a5b-7a51df89aa45",
   "metadata": {},
   "outputs": [],
   "source": [
    "def calculate_tt_td(list_id, df_users):\n",
    "    TTT = 0\n",
    "    TTD = 0\n",
    "    count = 0\n",
    "    df_id = df_users.set_index('ID')\n",
    "    for id in list_id[:10]:\n",
    "        #df = df_users[df_users['ID']==id]\n",
    "        df = df_id.loc[id]\n",
    "        if len(df)>1:\n",
    "            TTT += Time(df['TIME'].iloc[-1]).to_seconds() - Time(df['TIME'].iloc[0]).to_seconds()\n",
    "            TTD += df['DISTANCE'].iloc[-1]\n",
    "            count += 1\n",
    "    return (TTT/60/count, TTD*1e-3/count)"
   ]
  },
  {
   "cell_type": "code",
   "execution_count": null,
   "id": "8ffc7176-999f-4636-92fd-db1bd4bccab2",
   "metadata": {},
   "outputs": [],
   "source": [
    "# Compute total travel time/distance\n",
    "list_id = df_users['ID'].unique()\n",
    "print(calculate_tt_td(list_id, df_users))"
   ]
  },
  {
   "cell_type": "code",
   "execution_count": null,
   "id": "5184e9ab-a11c-47b5-8103-73940849b096",
   "metadata": {},
   "outputs": [],
   "source": [
    "df_id = df_users.set_index('ID')"
   ]
  },
  {
   "cell_type": "code",
   "execution_count": null,
   "id": "f991d818-f157-4000-a5f1-0c802851064b",
   "metadata": {},
   "outputs": [],
   "source": [
    "df_id#.loc[115712]"
   ]
  },
  {
   "cell_type": "code",
   "execution_count": null,
   "id": "63655ea3-4a78-45f2-beae-3bb7a2729bf8",
   "metadata": {},
   "outputs": [],
   "source": [
    "TTT = 0\n",
    "TTD = 0\n",
    "count = 0\n",
    "df_id = df_users.set_index('ID')\n",
    "for id in list_id[:10000]:\n",
    "    #df = df_users[df_users['ID']==id]\n",
    "    df = df_id.loc[id]\n",
    "    if len(df)>1:\n",
    "        TTT += Time(df['TIME'].iloc[-1]).to_seconds() - Time(df['TIME'].iloc[0]).to_seconds()\n",
    "        TTD += df['DISTANCE'].iloc[-1]\n",
    "        count += 1"
   ]
  },
  {
   "cell_type": "code",
   "execution_count": null,
   "id": "5d7887e6-a9a5-452e-9e2f-eebe7369a01c",
   "metadata": {},
   "outputs": [],
   "source": [
    "df"
   ]
  },
  {
   "cell_type": "code",
   "execution_count": null,
   "id": "cb16c7bc-0450-4e38-b536-736645ba3720",
   "metadata": {},
   "outputs": [],
   "source": [
    "Time(df['TIME'].iloc[-1]).to_seconds() - Time(df['TIME'].iloc[0]).to_seconds()"
   ]
  },
  {
   "cell_type": "code",
   "execution_count": null,
   "id": "343ba42a-d206-456b-b741-a87eaf2be59b",
   "metadata": {},
   "outputs": [],
   "source": [
    "df['DISTANCE'].iloc[-1]"
   ]
  },
  {
   "cell_type": "code",
   "execution_count": null,
   "id": "423a223b-e337-4b7c-b43b-269f7dbab618",
   "metadata": {},
   "outputs": [],
   "source": [
    "df_path"
   ]
  },
  {
   "cell_type": "code",
   "execution_count": null,
   "id": "aa2f9c50-2467-438f-b616-fcf623c10146",
   "metadata": {},
   "outputs": [],
   "source": []
  }
 ],
 "metadata": {
  "kernelspec": {
   "display_name": "Python 3 (ipykernel)",
   "language": "python",
   "name": "python3"
  },
  "language_info": {
   "codemirror_mode": {
    "name": "ipython",
    "version": 3
   },
   "file_extension": ".py",
   "mimetype": "text/x-python",
   "name": "python",
   "nbconvert_exporter": "python",
   "pygments_lexer": "ipython3",
   "version": "3.10.13"
  },
  "toc": {
   "base_numbering": 1,
   "nav_menu": {},
   "number_sections": true,
   "sideBar": true,
   "skip_h1_title": false,
   "title_cell": "Table of Contents",
   "title_sidebar": "Contents",
   "toc_cell": false,
   "toc_position": {},
   "toc_section_display": true,
   "toc_window_display": true
  }
 },
 "nbformat": 4,
 "nbformat_minor": 5
}
