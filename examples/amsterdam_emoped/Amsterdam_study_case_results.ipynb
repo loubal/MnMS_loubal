{
 "cells": [
  {
   "cell_type": "code",
   "execution_count": null,
   "id": "5e0552b0-92d7-4009-aa68-8ea249d3d224",
   "metadata": {},
   "outputs": [],
   "source": [
    "# Extract results"
   ]
  },
  {
   "cell_type": "code",
   "execution_count": null,
   "id": "22994324-0321-41e3-b124-20cc45519a4f",
   "metadata": {},
   "outputs": [],
   "source": [
    "### Imports \n",
    "import os\n",
    "import math\n",
    "import sys\n",
    "import numpy as np\n",
    "import matplotlib.pyplot as plt\n",
    "from matplotlib.lines import Line2D\n",
    "import matplotlib.patches as patches\n",
    "from matplotlib.collections import LineCollection\n",
    "import time\n",
    "import json\n",
    "\n",
    "import pandas as pd\n",
    "\n",
    "sys.path.append('../../')\n",
    "from script.conversion.bison.coordinates import rd_to_utm\n",
    "from mnms.graph.layers import PublicTransportLayer, MultiLayerGraph, OriginDestinationLayer, SharedVehicleLayer\n",
    "from mnms.generation.roads import generate_pt_line_road, generate_one_zone\n",
    "from mnms.generation.layers import generate_layer_from_roads\n",
    "from mnms.vehicles.veh_type import Tram, Metro, Bus, Bike\n",
    "from mnms.generation.zones import generate_one_zone\n",
    "from mnms.mobility_service.public_transport import PublicTransportMobilityService\n",
    "from mnms.mobility_service.vehicle_sharing import VehicleSharingMobilityService\n",
    "from mnms.time import TimeTable, Dt, Time\n",
    "from mnms.io.graph import load_graph, save_graph, load_odlayer, save_transit_links\n",
    "from mnms.tools.render import draw_roads, draw_line, draw_odlayer, draw_path, draw_veh_activity\n",
    "#from mnms.tools.geometry import points_in_polygon, get_bounding_box\n",
    "from mnms.time import Time"
   ]
  },
  {
   "cell_type": "code",
   "execution_count": null,
   "id": "dafa8fc3-fdbb-4b99-b83b-84d60fd15405",
   "metadata": {},
   "outputs": [],
   "source": []
  },
  {
   "cell_type": "code",
   "execution_count": null,
   "id": "f79c15e6-6830-41a5-b4be-ae5b35fee64e",
   "metadata": {},
   "outputs": [],
   "source": [
    "### Parameters\n",
    "\n",
    "# Files and directories\n",
    "f = open('params.json')\n",
    "params = json.load(f)\n",
    "\n",
    "current_dir = os.getcwd()\n",
    "indir = current_dir + '/inputs/'\n",
    "outdir = current_dir + '/outputs/'\n",
    "\n",
    "#coord_csv_filepath = indir + 'KV1_GVB_2609_2/Csv/POINT.csv' # file with coordinates of the network\n",
    "#amsterdam_json_filepath = indir + 'new_network.json' # mlgraph with the road network only\n",
    "#amsterdam_json_filepath_pt_transit = indir + \"network_pt_transit.json\"\n",
    "#transit_path = indir + \"transit.json\"\n",
    "\n",
    "FIG_SIZE_HALF = (6,3)\n",
    "FONT_SIZE_LAB = 14\n",
    "FONT_SIZE_LEG = 12\n",
    "FONT_SIZE_AXI = 12"
   ]
  },
  {
   "cell_type": "code",
   "execution_count": null,
   "id": "44806c5b-50e3-41cb-8590-37a3e77b7ab5",
   "metadata": {},
   "outputs": [],
   "source": [
    "### Load network\n",
    "\n",
    "mmgraph_pt = load_graph(indir + params[\"fn_network\"])\n",
    "df_stations = pd.read_csv(indir+params['fn_emoped_st_init'])\n",
    "\n",
    "#df_emoped1 = pd.read_csv(indir + 'init_pos_emoped.csv')\n",
    "#df_emoped2 = pd.read_csv(indir + 'init_pos_emoped.csv')\n",
    "\n",
    "### Load demand\n",
    "\n",
    "df_dmd = pd.read_csv(indir + params['fn_demand'], sep=\";\")\n",
    "\n",
    "### Load odlayer\n",
    "odlayer = load_odlayer(indir + params[\"fn_odlayer\"])\n",
    "x_od = []\n",
    "y_od = []\n",
    "for i in odlayer.origins.items():\n",
    "    x = i[1][0]\n",
    "    y = i[1][1]\n",
    "    x_od.append(x)\n",
    "    y_od.append(y)"
   ]
  },
  {
   "cell_type": "code",
   "execution_count": null,
   "id": "295e1909-0855-459f-b816-cc995bddcec4",
   "metadata": {},
   "outputs": [],
   "source": [
    "## Load results\n",
    "\n",
    "df_emoped1_notax = pd.read_csv(outdir+'notax/emoped1_veh.csv', sep=\";\")\n",
    "df_path_notax = pd.read_csv(outdir+'notax/path.csv', sep=\";\")\n",
    "df_users_notax = pd.read_csv(outdir+'notax/users.csv', sep=\";\")\n",
    "\n",
    "df_emoped1_tax = pd.read_csv(outdir+'tax/emoped1_veh.csv', sep=\";\")\n",
    "df_path_tax = pd.read_csv(outdir+'tax/path.csv', sep=\";\")\n",
    "df_users_tax = pd.read_csv(outdir+'tax/users.csv', sep=\";\")\n",
    "\n",
    "df_emoped1_subsidy = pd.read_csv(outdir+'subsidy/emoped1_veh.csv', sep=\";\")\n",
    "df_path_subsidy = pd.read_csv(outdir+'subsidy/path.csv', sep=\";\")\n",
    "df_users_subsidy = pd.read_csv(outdir+'subsidy/users.csv', sep=\";\")\n",
    "\n",
    "df_emoped1_subsidytax = pd.read_csv(outdir+'subsidytax/emoped1_veh.csv', sep=\";\")\n",
    "df_path_subsidytax = pd.read_csv(outdir+'subsidytax/path.csv', sep=\";\")\n",
    "df_users_subsidytax = pd.read_csv(outdir+'subsidytax/users.csv', sep=\";\")\n",
    "\n",
    "\"\"\"df_emoped1_tax = pd.read_csv(outdir+'notax/emoped1_veh.csv', sep=\";\")\n",
    "df_path_tax = pd.read_csv(outdir+'notax/path.csv', sep=\";\")\n",
    "df_users_tax = pd.read_csv(outdir+'notax/users.csv', sep=\";\")\n",
    "\n",
    "df_emoped1_subsidy = pd.read_csv(outdir+'notax/emoped1_veh.csv', sep=\";\")\n",
    "df_path_subsidy = pd.read_csv(outdir+'notax/path.csv', sep=\";\")\n",
    "df_users_subsidy = pd.read_csv(outdir+'notax/users.csv', sep=\";\")\n",
    "\n",
    "df_emoped1_subsidytax = pd.read_csv(outdir+'notax/emoped1_veh.csv', sep=\";\")\n",
    "df_path_subsidytax = pd.read_csv(outdir+'notax/path.csv', sep=\";\")\n",
    "df_users_subsidytax = pd.read_csv(outdir+'notax/users.csv', sep=\";\")\"\"\""
   ]
  },
  {
   "cell_type": "code",
   "execution_count": null,
   "id": "01e3d7d7-d286-4247-a4ac-d63ed5154852",
   "metadata": {},
   "outputs": [],
   "source": [
    "# Look vehicle trajectory\n",
    "\"\"\"veh_id = 130\n",
    "df = df_emoped1[df_emoped1[\"ID\"] == int(veh_id)]\n",
    "list_pos_emoped = np.zeros((len(df['POSITION']),2))\n",
    "for i, row in enumerate(df['POSITION']):\n",
    "    pos = row.split(' ')\n",
    "    #plt.text(float(pos[0]), float(pos[1]), row.TIME)\n",
    "    list_pos_emoped[i,:] = [float(pos[0]), float(pos[1])]\"\"\""
   ]
  },
  {
   "cell_type": "markdown",
   "id": "41659a63-32c2-4e47-8a2a-4774765d40d3",
   "metadata": {},
   "source": [
    "# Demand"
   ]
  },
  {
   "cell_type": "code",
   "execution_count": null,
   "id": "52b76a62-038e-4271-aee6-9d8e244fff42",
   "metadata": {},
   "outputs": [],
   "source": [
    "len(df_dmd)"
   ]
  },
  {
   "cell_type": "code",
   "execution_count": null,
   "id": "1b59edba-1896-42fb-8e06-fe473f11982d",
   "metadata": {},
   "outputs": [],
   "source": [
    "df_dmd"
   ]
  },
  {
   "cell_type": "code",
   "execution_count": null,
   "id": "b29dd98e-1d46-40b9-afe2-d97ca9f60279",
   "metadata": {},
   "outputs": [],
   "source": [
    "origin_points = np.asarray([[float(x) for x in s.split(' ')] for s in df_dmd.ORIGIN.values])\n",
    "plt.hexbin(origin_points[:,0],origin_points[:,1], gridsize=20, cmap='Purples')"
   ]
  },
  {
   "cell_type": "code",
   "execution_count": null,
   "id": "fc15343e-6034-4614-a930-e3c14775447d",
   "metadata": {},
   "outputs": [],
   "source": []
  },
  {
   "cell_type": "code",
   "execution_count": null,
   "id": "79b4c6c0-c41c-47f1-982e-220ef33bff44",
   "metadata": {},
   "outputs": [],
   "source": [
    "destination_points = np.asarray([[float(x) for x in s.split(' ')] for s in df_dmd.DESTINATION.values])\n",
    "plt.hexbin(destination_points[:,0],destination_points[:,1], gridsize=20, cmap='Purples')"
   ]
  },
  {
   "cell_type": "code",
   "execution_count": null,
   "id": "3effda19-f4b6-4148-9251-05e481e69854",
   "metadata": {},
   "outputs": [],
   "source": []
  },
  {
   "cell_type": "code",
   "execution_count": null,
   "id": "529bc750-3b57-4289-bceb-17e2e1040626",
   "metadata": {},
   "outputs": [],
   "source": [
    "def calc_dist(row):\n",
    "    pos1 = [float(x) for x in row.ORIGIN.split(' ')]\n",
    "    pos2 = [float(x) for x in row.DESTINATION.split(' ')]\n",
    "    #dist = abs(pos1[0]-pos2[0]) + abs(pos1[1]-pos2[1])\n",
    "    dist = ((pos1[0]-pos2[0])**2 + (pos1[1]-pos2[1])**2)**0.5\n",
    "    return dist\n",
    "\n",
    "dist = df_dmd.apply(calc_dist, axis=1)"
   ]
  },
  {
   "cell_type": "code",
   "execution_count": null,
   "id": "4bba26ea-4a49-43fa-a051-3891783ba2a2",
   "metadata": {},
   "outputs": [],
   "source": [
    "plt.hist(dist, bins=100);"
   ]
  },
  {
   "cell_type": "code",
   "execution_count": null,
   "id": "6f457800-cca8-4c4b-935f-e3127a47700c",
   "metadata": {},
   "outputs": [],
   "source": []
  },
  {
   "cell_type": "code",
   "execution_count": null,
   "id": "102ebf62-fa75-4e5f-b684-668847ddd4db",
   "metadata": {},
   "outputs": [],
   "source": [
    "# Look O/D for users wihtout paths\n",
    "list_nomatch = []\n",
    "list_origins = []\n",
    "list_destinations = []\n",
    "for i, row in df_path_notax[:].iterrows():\n",
    "    if pd.isna(row['PATH']):\n",
    "        list_nomatch.append(row['ID'])\n",
    "        user = df_dmd[df_dmd['ID']==row['ID']]\n",
    "        list_origins.append([float(o) for o in user['ORIGIN'].iloc[0].split(' ')])\n",
    "        list_destinations.append([float(o) for o in user['DESTINATION'].iloc[0].split(' ')])"
   ]
  },
  {
   "cell_type": "code",
   "execution_count": null,
   "id": "3590c48a-d481-4ca6-8c83-4d8b7cd55596",
   "metadata": {},
   "outputs": [],
   "source": []
  },
  {
   "cell_type": "code",
   "execution_count": null,
   "id": "6a511cf9-a915-430a-8396-b3029435fbba",
   "metadata": {},
   "outputs": [],
   "source": [
    "\"\"\"id_user = '1066750-1'\n",
    "o_user =  [float(o) for o in df_dmd[df_dmd['ID']==id_user]['ORIGIN'].iloc[0].split(' ')]\n",
    "d_user =  [float(o) for o in df_dmd[df_dmd['ID']==id_user]['DESTINATION'].iloc[0].split(' ')]\n",
    "\n",
    "dist_o = [(o_user[0]-x)**2 + (o_user[1]-y)**2 for (x,y) in zip(x_od,y_od)]\n",
    "dist_d = [(d_user[0]-x)**2 + (d_user[1]-y)**2 for (x,y) in zip(x_od,y_od)]\n",
    "print(np.argmin(dist_o), np.argmin(dist_d))\"\"\""
   ]
  },
  {
   "cell_type": "markdown",
   "id": "50f76cf8-ab06-42e4-adca-708eb7340b3f",
   "metadata": {},
   "source": [
    "# Plot network"
   ]
  },
  {
   "cell_type": "code",
   "execution_count": null,
   "id": "c892b49c-1291-4d90-b74d-3286d6cc1528",
   "metadata": {},
   "outputs": [],
   "source": [
    "polygon = np.asarray(params['polygon_demand'])"
   ]
  },
  {
   "cell_type": "code",
   "execution_count": null,
   "id": "4b122edf-0670-4e7b-8f7d-bf96612ccc4b",
   "metadata": {},
   "outputs": [],
   "source": [
    "x_st = []\n",
    "y_st = []\n",
    "for n in df_stations['closest_node']:\n",
    "    x_st.append(mmgraph_pt.roads.nodes[n].position[0])\n",
    "    y_st.append(mmgraph_pt.roads.nodes[n].position[1])"
   ]
  },
  {
   "cell_type": "code",
   "execution_count": null,
   "id": "ccfb1717-d073-4ba8-b3e2-7c26a2e15b85",
   "metadata": {},
   "outputs": [],
   "source": [
    "x_nodes = []\n",
    "y_nodes = []\n",
    "for key in mmgraph_pt.roads.nodes.keys():\n",
    "    pos = mmgraph_pt.roads.nodes[key].position\n",
    "    x_nodes.append(pos[0])\n",
    "    y_nodes.append(pos[1])"
   ]
  },
  {
   "cell_type": "code",
   "execution_count": null,
   "id": "77fa7b6f-9baf-41b0-b3bc-755761d1324b",
   "metadata": {},
   "outputs": [],
   "source": [
    "print([p - polygon[0,0] for p in polygon[:,0]])\n",
    "print([p - polygon[0,1] for p in polygon[:,1]])"
   ]
  },
  {
   "cell_type": "code",
   "execution_count": null,
   "id": "f61cfc2f-f7ae-47a7-80ff-1390cf7b9abc",
   "metadata": {},
   "outputs": [],
   "source": [
    "fig, ax = plt.subplots(figsize=(8, 8))\n",
    "\n",
    "draw_roads(ax, mmgraph_pt.roads, color='grey', linkwidth=0.1, nodesize=0, draw_stops=False, node_label=False)\n",
    "\n",
    "# Params of the visualization\n",
    "colors = {'BUS': 'green', 'METRO': 'red', 'TRAM': 'skyblue'}\n",
    "\n",
    "for layer in mmgraph_pt.layers.values():\n",
    "    if type(layer) == PublicTransportLayer:\n",
    "        for name, line in layer.lines.items():\n",
    "                draw_line(ax, mmgraph_pt, line, color=colors[name[:name.find('_')]], \n",
    "                          linkwidth=0.4, nodesize=1, line_label=None, label_size=1, alpha=1., stopmarkeredgewidth=0.1)\n",
    "\n",
    "#plt.plot(x_od, y_od, 'dk', alpha=0.4)\n",
    "\n",
    "#plt.plot(x_st, y_st, '*b')\n",
    "\n",
    "#plt.plot(x_nodes, y_nodes, '.m', alpha=0.5, markersize=1)\n",
    "\n",
    "#plt.plot(list_pos_emoped[:,0], list_pos_emoped[:,1], ':.')\n",
    "\n",
    "for o,d in zip(list_origins, list_destinations):\n",
    "    plt.plot([o[0], d[0]], [o[1], d[1]], 'm:', alpha=0.2)\n",
    "    plt.plot(d[0], d[1], 'dm', alpha=0.2)\n",
    "    plt.plot(o[0], o[1], 'om', alpha=0.2)\n",
    "\n",
    "#plt.plot([o_user[0], d_user[0]], [o_user[1], d_user[1]], 'o-')\n",
    "x=list(polygon[:,0])\n",
    "x.append(polygon[0,0])\n",
    "y=list(polygon[:,1])\n",
    "y.append(polygon[0,1])\n",
    "#plt.plot(x, y, '+--k')\n",
    "\n",
    "legend = [Line2D([0, 1], [0, 1], marker='.', markersize=12, markeredgecolor='black', color='skyblue', linewidth=5,\n",
    "            label='Tram line'),\n",
    "          Line2D([0, 1], [0, 1], marker='.', markersize=12, markeredgecolor='black', color='red', linewidth=5,\n",
    "            label='Metro line'),\n",
    "          Line2D([0, 1], [0, 1], marker='.', markersize=12, markeredgecolor='black', color='green', linewidth=5,\n",
    "            label='Bus line'),\n",
    "          Line2D([0, 1], [0, 1], marker='.', markersize=0, markeredgecolor='grey', markerfacecolor='grey', color='grey', linewidth=1,\n",
    "            label='Roads')]\n",
    "#          Line2D([0, 1], [0, 1], marker='*', markersize=10, color='b', linewidth=0,\n",
    "#            label='Virtual station')]\n",
    "\n",
    "plt.hexbin(destination_points[:,0],destination_points[:,1], gridsize=20, cmap='Purples')\n",
    "#plt.hexbin(origin_points[:,0],origin_points[:,1], gridsize=20, cmap='Greens')\n",
    "\n",
    "legend = plt.legend(handles=legend, fontsize=FONT_SIZE_LEG)\n",
    "plt.tight_layout() \n",
    "#plt.legend(, ncol=2, loc='lower left', bbox_to_anchor=(0.1,1),)\n",
    "plt.xticks(fontsize=FONT_SIZE_AXI)\n",
    "plt.yticks(fontsize=FONT_SIZE_AXI)\n",
    "plt.xlim([617000,640000])\n",
    "plt.ylim([5.793e6, 5.813e6])\n",
    "#plt.savefig(params['figdir']+'network_light.pdf', bbox_inches = 'tight')\n"
   ]
  },
  {
   "cell_type": "code",
   "execution_count": null,
   "id": "8c254f81-f859-48be-b8e5-a1f70997a744",
   "metadata": {},
   "outputs": [],
   "source": []
  },
  {
   "cell_type": "markdown",
   "id": "292a7886-ba2c-4b75-ba66-2808416e8808",
   "metadata": {},
   "source": [
    "## Modes shares"
   ]
  },
  {
   "cell_type": "code",
   "execution_count": null,
   "id": "c4eb441e-c60e-46ec-8a50-d13971ab509e",
   "metadata": {},
   "outputs": [],
   "source": [
    "def emoped_in_modes(modes):\n",
    "    if pd.isna(modes):\n",
    "        return False\n",
    "    else:\n",
    "        return 'emoped1' in modes\n",
    "\n",
    "def pt_in_modes(modes):\n",
    "    if pd.isna(modes):\n",
    "        return False\n",
    "    else:\n",
    "        return ('BUS' in modes) or ('TRAM' in modes) or ('METRO' in modes)\n",
    "\n",
    "def calculate_mode_shares(df_paths, list_id):\n",
    "    emoped_only = 0\n",
    "    pt_only = 0\n",
    "    combined = 0\n",
    "    no_match = 0\n",
    "    for id in list_id[:]:\n",
    "        paths = df_paths[df_paths['ID']==id]\n",
    "        path = paths.iloc[-1]\n",
    "        modes = path['SERVICES']\n",
    "        if emoped_in_modes(modes):\n",
    "            if pt_in_modes(modes):\n",
    "                combined+=1\n",
    "            if (not pt_in_modes(modes)):\n",
    "                emoped_only+=1\n",
    "        elif pt_in_modes(modes):\n",
    "            pt_only+=1\n",
    "        else:\n",
    "            no_match+=1\n",
    "    sum = len(list_id)\n",
    "    return (np.around(emoped_only/sum,3), np.around(pt_only/sum,3), np.around(combined/sum,3), np.around(no_match/sum,3))"
   ]
  },
  {
   "cell_type": "code",
   "execution_count": null,
   "id": "a980cea9-c93b-476c-8fa5-2f4b14bed7a5",
   "metadata": {
    "scrolled": true
   },
   "outputs": [],
   "source": [
    "list_id = df_path_notax['ID'].unique()\n",
    "\n",
    "print('notax', calculate_mode_shares(df_path_notax, list_id))\n",
    "#print('tax', calculate_mode_shares(df_path_tax, list_id))\n",
    "#print('subsidy', calculate_mode_shares(df_path_subsidy, list_id))\n",
    "#print('subsidytax', calculate_mode_shares(df_path_subsidytax, list_id))"
   ]
  },
  {
   "cell_type": "code",
   "execution_count": null,
   "id": "7a019dd4-7f5f-45a5-9001-9bfe40c9d94a",
   "metadata": {},
   "outputs": [],
   "source": [
    "df_path_notax.CHOSEN.unique()"
   ]
  },
  {
   "cell_type": "code",
   "execution_count": null,
   "id": "4194cf06-bfe0-41f3-a61d-123f490b82e4",
   "metadata": {},
   "outputs": [],
   "source": [
    "df_path = df_path_notax\n",
    "\n",
    "list_ser=[]\n",
    "pt_before = []\n",
    "pt_after = []\n",
    "pt_before_after = []\n",
    "for service, i_user in zip(df_path.SERVICES, df_path.ID):\n",
    "    if pd.isna(service): \n",
    "        service = ''\n",
    "    ser = service.replace('WALK','')\n",
    "    ser = ser.replace(' ','')\n",
    "    if emoped_in_modes(ser) and pt_in_modes(ser):\n",
    "        a = ser.split('emoped1')\n",
    "        if len(a[0])>0 and len(a[-1])>0:\n",
    "            pt_before_after.append(i_user)\n",
    "        elif len(a[0])>0:\n",
    "            pt_before.append(i_user)\n",
    "        elif len(a[-1])>0:\n",
    "            pt_after.append(i_user)"
   ]
  },
  {
   "cell_type": "code",
   "execution_count": null,
   "id": "82a4239f-ae85-4775-8dc6-9e66e361de4f",
   "metadata": {},
   "outputs": [],
   "source": [
    "o_pt_before = []\n",
    "d_pt_before = []\n",
    "df = df_dmd.set_index('ID')\n",
    "for i_user in pt_before:\n",
    "    user = df.loc[i_user]\n",
    "    o_pt_before.append([float(o) for o in user['ORIGIN'].split(' ')])\n",
    "    d_pt_before.append([float(o) for o in user['DESTINATION'].split(' ')])\n",
    "o_pt_before = np.asarray(o_pt_before)\n",
    "d_pt_before = np.asarray(d_pt_before)\n",
    "\n",
    "o_pt_after = []\n",
    "d_pt_after = []\n",
    "for i_user in pt_after:\n",
    "    user = df.loc[i_user]\n",
    "    o_pt_after.append([float(o) for o in user['ORIGIN'].split(' ')])\n",
    "    d_pt_after.append([float(o) for o in user['DESTINATION'].split(' ')])\n",
    "o_pt_after = np.asarray(o_pt_after)\n",
    "d_pt_after = np.asarray(d_pt_after)"
   ]
  },
  {
   "cell_type": "code",
   "execution_count": null,
   "id": "138bfb83-aacf-4020-b1c9-13fa28e8442b",
   "metadata": {},
   "outputs": [],
   "source": []
  },
  {
   "cell_type": "code",
   "execution_count": null,
   "id": "55454b9b-842c-4d81-be3c-fe10148fbf03",
   "metadata": {},
   "outputs": [],
   "source": [
    "print(pt_before, pt_after, pt_before_after)"
   ]
  },
  {
   "cell_type": "markdown",
   "id": "9b89d129-bc1f-495d-89e2-c31318ec7d7f",
   "metadata": {},
   "source": [
    "## TTT/TTD"
   ]
  },
  {
   "cell_type": "code",
   "execution_count": null,
   "id": "0a5b0069-caf4-4214-8a5b-7a51df89aa45",
   "metadata": {},
   "outputs": [],
   "source": [
    "def calculate_tt_td(list_id, df_users):\n",
    "    tt = []\n",
    "    td = []\n",
    "    #count = 0\n",
    "    for id in list_id:\n",
    "        df = df_users[df_users['ID']==id]\n",
    "        if len(df)>1:\n",
    "            tt.append(Time(df['TIME'].iloc[-1]).to_seconds() - Time(df['TIME'].iloc[0]).to_seconds())\n",
    "            td.append(df['DISTANCE'].iloc[-1])\n",
    "            #count += 1\n",
    "    return (tt, td)"
   ]
  },
  {
   "cell_type": "code",
   "execution_count": null,
   "id": "8ffc7176-999f-4636-92fd-db1bd4bccab2",
   "metadata": {},
   "outputs": [],
   "source": [
    "# Compute total travel time/distance\n",
    "\n",
    "tt_notax, td_notax = calculate_tt_td(list_id, df_users_notax)\n",
    "tt_tax, td_tax = calculate_tt_td(list_id, df_users_tax)\n",
    "tt_subsidy, td_subsidy = calculate_tt_td(list_id, df_users_subsidy)\n",
    "tt_subsidytax, td_subsidytax = calculate_tt_td(list_id, df_users_subsidytax)"
   ]
  },
  {
   "cell_type": "code",
   "execution_count": null,
   "id": "b08416b2-12c9-42e9-8c3b-a41d6ba1c960",
   "metadata": {},
   "outputs": [],
   "source": [
    "plt.hist(tt_notax, alpha=0.5, label = \"notax\")\n",
    "plt.hist(tt_tax, alpha=0.5, label = \"tax\")\n",
    "plt.hist(tt_subsidy, alpha=0.5, label = \"subsidy\")\n",
    "plt.hist(tt_subsidytax, alpha=0.5, label = \"subsidytax\")\n",
    "plt.legend()"
   ]
  },
  {
   "cell_type": "markdown",
   "id": "09527190-ce53-4b1d-80c3-b6f07c7134c0",
   "metadata": {},
   "source": [
    "## Emoped usage"
   ]
  },
  {
   "cell_type": "code",
   "execution_count": null,
   "id": "46e98f98-7252-4864-b851-1c2c94b7fa58",
   "metadata": {},
   "outputs": [],
   "source": [
    "def calculate_emoped_indicators(df_emoped):\n",
    "    list_emoped = df_emoped['ID'].unique()\n",
    "    distances = []\n",
    "    TTD = 0\n",
    "    TTT = 0\n",
    "    nb_rides = 0\n",
    "    for id in list_emoped:\n",
    "        df = df_emoped[df_emoped['ID']==id]\n",
    "        TTD += df['DISTANCE'].iloc[-1]\n",
    "        \n",
    "        nb_rides_loc = sum(df.STATE=='STOP')-1\n",
    "        #nb_rides += nb_rides_loc\n",
    "        i_stops = np.where(df.STATE=='STOP')[0]\n",
    "        for i in range(nb_rides_loc):\n",
    "            i_start = i_stops[i]\n",
    "            i_start_tt = i_stops[i]+1\n",
    "            i_stop = i_stops[i+1]\n",
    "            if i_start+1==i_stop:\n",
    "                pass \n",
    "                #print(id)\n",
    "            else:\n",
    "                TTT += str_to_time(df.TIME.iloc[i_stop]) - str_to_time(df.TIME.iloc[i_start_tt])\n",
    "                distances.append(df.DISTANCE.iloc[i_stop] - df.DISTANCE.iloc[i_start])\n",
    "                nb_rides += 1\n",
    "                if (df.DISTANCE.iloc[i_stop] - df.DISTANCE.iloc[i_start])<100:\n",
    "                    print(id, i_stops)\n",
    "    return (TTD*1e-3, TTT/3600, nb_rides, distances)\n",
    "\n",
    "def str_to_time(time_str):\n",
    "    return sum([float(t)*60**(2-i) for i,t in enumerate(time_str.split(':'))])"
   ]
  },
  {
   "cell_type": "code",
   "execution_count": null,
   "id": "15152cfd-d182-47d8-b92c-d757b182ef80",
   "metadata": {},
   "outputs": [],
   "source": [
    "ttd_notax, ttt_notax, nb_rides_notax, dist_notax = calculate_emoped_indicators(df_emoped1_notax)\n",
    "ttd_tax, ttt_tax, nb_rides_tax, dist_tax = calculate_emoped_indicators(df_emoped1_tax)\n",
    "ttd_subsidy, ttt_subsidy, nb_rides_subsidy, dist_subsidy = calculate_emoped_indicators(df_emoped1_subsidy)\n",
    "ttd_subsidytax, ttt_subsidytax, nb_rides_subsidytax, dist_subsidytax = calculate_emoped_indicators(df_emoped1_subsidytax)"
   ]
  },
  {
   "cell_type": "code",
   "execution_count": null,
   "id": "f9a8785c-8900-45bf-a5a1-9460258d3a5c",
   "metadata": {},
   "outputs": [],
   "source": [
    "print(sum(np.asarray(dist)==0))\n",
    "print(ttd_notax/ttt_notax, 'km/h')"
   ]
  },
  {
   "cell_type": "code",
   "execution_count": null,
   "id": "cba1b83c-ca83-4d52-b149-d22cef710ddb",
   "metadata": {},
   "outputs": [],
   "source": [
    "rev_notax = 1*nb_rides_notax + 0.33*ttt_notax*60\n",
    "rev_tax = 1*nb_rides_tax + 0.33*ttt_tax*60\n",
    "rev_subsidy = 1*nb_rides_subsidy + 0.33*ttt_subsidy*60\n",
    "rev_subsidytax = 1*nb_rides_subsidytax + 0.33*ttt_subsidytax*60"
   ]
  },
  {
   "cell_type": "code",
   "execution_count": null,
   "id": "bcec0612-8bf1-4d11-b12a-6c05b4a32411",
   "metadata": {},
   "outputs": [],
   "source": [
    "print(ttd_notax, ttt_notax, nb_rides_notax, rev_notax)\n",
    "print(ttd_tax, ttt_tax, nb_rides_tax, rev_tax)\n",
    "print(ttd_subsidy, ttt_subsidy, nb_rides_subsidy, rev_subsidy)\n",
    "print(ttd_subsidytax, ttt_subsidytax, nb_rides_subsidytax, rev_subsidytax)"
   ]
  },
  {
   "cell_type": "code",
   "execution_count": null,
   "id": "64a474dd-ab98-485a-86a2-00404ad4a49d",
   "metadata": {},
   "outputs": [],
   "source": [
    "# Calibration\n",
    "df_dist_mhtn = pd.read_csv('inputs/processed_felyx_data/df_dist_mhtn.csv')\n",
    "df_dist_eucl = pd.read_csv('inputs/processed_felyx_data/df_dist_eucl.csv')\n",
    "\n",
    "plt.hist(np.asarray(dist_notax)*1e-3, bins=100, cumulative=True, density=True);\n",
    "plt.plot(df_dist_mhtn.dist*1e-3, df_dist_mhtn.dsty, label='Manhattan')\n",
    "plt.plot(df_dist_eucl.dist*1e-3, df_dist_eucl.dsty, label='Euclidian')\n",
    "plt.legend(fontsize=FONT_SIZE_LEG)\n",
    "plt.xlim([0,15])\n",
    "plt.tight_layout() \n",
    "#plt.legend(, ncol=2, loc='lower left', bbox_to_anchor=(0.1,1),)\n",
    "plt.xticks(fontsize=FONT_SIZE_AXI)\n",
    "plt.yticks(fontsize=FONT_SIZE_AXI)\n",
    "plt.xlabel('Distance (km)', fontsize=FONT_SIZE_LAB)\n",
    "plt.ylabel('Cumulative density', fontsize=FONT_SIZE_LAB)\n",
    "#plt.savefig(params['figdir']+'dist_distribution.pdf', bbox_inches = 'tight')"
   ]
  },
  {
   "cell_type": "code",
   "execution_count": null,
   "id": "0d13a035-bdc1-43d7-9b18-749786bb8e36",
   "metadata": {},
   "outputs": [],
   "source": [
    "df_emoped1_notax"
   ]
  },
  {
   "cell_type": "code",
   "execution_count": null,
   "id": "86b1b309-d72b-40a4-9bc3-d30928cf8c82",
   "metadata": {},
   "outputs": [],
   "source": [
    "list_emoped = df_emoped1_notax['ID'].unique()\n",
    "d = []\n",
    "pos = []\n",
    "for id in list_emoped:\n",
    "    df = df_emoped1_notax[df_emoped1_notax['ID']==id]\n",
    "    d.append(df['DISTANCE'].iloc[-1])\n",
    "    if df['DISTANCE'].iloc[-1]==0:\n",
    "        pos.append([float(x) for x in df.POSITION.iloc[-1].split(' ')])\n",
    "plt.hist(d, bins=50);\n",
    "pos = np.array(pos)"
   ]
  },
  {
   "cell_type": "code",
   "execution_count": null,
   "id": "d22e163c-437c-4778-aacc-f69f7dca3c74",
   "metadata": {},
   "outputs": [],
   "source": [
    "sum([d_==0 for d_ in d])"
   ]
  },
  {
   "cell_type": "code",
   "execution_count": null,
   "id": "a05de7df-7e14-4671-9fe0-a63eca879d58",
   "metadata": {},
   "outputs": [],
   "source": [
    "position_stations = []\n",
    "for key in mmgraph_pt.roads.stops.keys():\n",
    "    position_stations.append(mmgraph_pt.roads.stops[key].absolute_position)\n",
    "\n",
    "dist_o = []\n",
    "for o in origin_points:\n",
    "    distances = [(o[0]-s[0])**2+(o[1]-s[1])**2 for s in position_stations]\n",
    "    dist_o.append(np.sqrt(min(distances)))\n",
    "\n",
    "dist_d = []\n",
    "for d in destination_points:\n",
    "    distances = [(d[0]-s[0])**2+(d[1]-s[1])**2 for s in position_stations]\n",
    "    dist_d.append(np.sqrt(min(distances)))\n",
    "\n",
    "mask_o = [d>500 for d in dist_o]\n",
    "mask_d = [d>500 for d in dist_d]"
   ]
  },
  {
   "cell_type": "code",
   "execution_count": null,
   "id": "efcded0a-c033-4845-8808-af6c426193b5",
   "metadata": {},
   "outputs": [],
   "source": []
  },
  {
   "cell_type": "code",
   "execution_count": null,
   "id": "89bad3e7-1bf8-4c8f-902a-417c9d486097",
   "metadata": {},
   "outputs": [],
   "source": []
  },
  {
   "cell_type": "code",
   "execution_count": null,
   "id": "95d3a716-24d8-4796-97e4-7e36ab773e0e",
   "metadata": {},
   "outputs": [],
   "source": [
    "fig, ax = plt.subplots(figsize=(8, 8))\n",
    "\n",
    "draw_roads(ax, mmgraph_pt.roads, color='grey', linkwidth=0.1, nodesize=0, draw_stops=False, node_label=False)\n",
    "\n",
    "# Params of the visualization\n",
    "colors = {'BUS': 'green', 'METRO': 'red', 'TRAM': 'skyblue'}\n",
    "\n",
    "for layer in mmgraph_pt.layers.values():\n",
    "    if type(layer) == PublicTransportLayer:\n",
    "        for name, line in layer.lines.items():\n",
    "                draw_line(ax, mmgraph_pt, line, color=colors[name[:name.find('_')]], \n",
    "                          linkwidth=0.4, nodesize=1, line_label=None, label_size=1, alpha=1., stopmarkeredgewidth=0.1)\n",
    "\n",
    "#plt.plot(x_od, y_od, 'dk', alpha=0.4)\n",
    "\n",
    "#plt.plot(x_st, y_st, '*b')\n",
    "\n",
    "#plt.plot(x_nodes, y_nodes, '.m', alpha=0.5, markersize=1)\n",
    "\n",
    "#plt.plot(list_pos_emoped[:,0], list_pos_emoped[:,1], ':.')\n",
    "\n",
    "plt.hexbin(pos[:,0],pos[:,1], gridsize=20, cmap='Greens')\n",
    "\n",
    "#plt.plot(pos[:,0],pos[:,1], '+')\n",
    "#plt.plot(pos[:,0],pos[:,1]+600, 'x')\n",
    "\n",
    "#plt.hexbin(o_pt_before[:,0],o_pt_before[:,1], gridsize=20, cmap='Purples')\n",
    "#plt.hexbin(d_pt_before[:,0],d_pt_before[:,1], gridsize=20, cmap='Purples')\n",
    "#plt.hexbin(o_pt_after[:,0],o_pt_after[:,1], gridsize=20, cmap='Purples')\n",
    "#plt.hexbin(d_pt_after[:,0],d_pt_after[:,1], gridsize=20, cmap='Purples')\n",
    "\n",
    "x=list(polygon[:,0])\n",
    "x.append(polygon[0,0])\n",
    "y=list(polygon[:,1])\n",
    "y.append(polygon[0,1])\n",
    "#plt.plot(x, y, '+--k')\n",
    "\n",
    "plt.plot(origin_points[mask_o,0],origin_points[mask_o,1], 'b+')\n",
    "plt.plot(destination_points[mask_o,0],destination_points[mask_o,1], 'bx')\n",
    "\n",
    "plt.plot(origin_points[mask_d,0],origin_points[mask_d,1], 'm+')\n",
    "plt.plot(destination_points[mask_d,0],destination_points[mask_d,1], 'mx')\n"
   ]
  },
  {
   "cell_type": "markdown",
   "id": "aa474ace-a5c4-4bee-8fa5-ec284057f84b",
   "metadata": {},
   "source": [
    "## Station evolution"
   ]
  },
  {
   "cell_type": "code",
   "execution_count": null,
   "id": "527b1aa4-3292-4043-aac7-83945bcf1b82",
   "metadata": {},
   "outputs": [],
   "source": [
    "df_stations['position'] = df_stations.apply(lambda row: '%.3f %.3f'%(row.x_node, row.y_node), axis=1)"
   ]
  },
  {
   "cell_type": "code",
   "execution_count": null,
   "id": "a2c2f9b6-70fd-434b-8af8-e14d2e5e1516",
   "metadata": {},
   "outputs": [],
   "source": []
  },
  {
   "cell_type": "code",
   "execution_count": null,
   "id": "9ed6952f-f002-49b1-b223-1b29fe0c8eca",
   "metadata": {},
   "outputs": [],
   "source": [
    "df_stations.position"
   ]
  },
  {
   "cell_type": "code",
   "execution_count": null,
   "id": "9d6995bc-6d42-40ff-bb9f-9bf9396e0600",
   "metadata": {},
   "outputs": [],
   "source": [
    "station_emoped = np.zeros((len(df_stations), df_stations.nb_emoped.sum()))\n",
    "nb_emoped_stations = np.zeros((len(df_emoped1_notax.TIME.unique()), len(df_stations)), int)\n",
    "for i_t, t in enumerate(df_emoped1_notax.TIME.unique()):\n",
    "    df = df_emoped1_notax[df_emoped1_notax.TIME==t]\n",
    "    df2 = df[df.STATE=='STOP']\n",
    "    for i,row in df2.iterrows():\n",
    "        i_sta = df_stations.index[df_stations.position==row.POSITION][0]\n",
    "        station_emoped[:, row.ID] = 0\n",
    "        station_emoped[i_sta, row.ID] = 1\n",
    "    df3 = df[df.STATE!='STOP']\n",
    "    for i,row in df3.iterrows():\n",
    "        station_emoped[:, row.ID] = 0\n",
    "    nb_emoped_stations[i_t] = station_emoped.sum(axis=1)\n",
    "    "
   ]
  },
  {
   "cell_type": "code",
   "execution_count": null,
   "id": "d3ea8a58-3413-4961-a69e-03d13108ad12",
   "metadata": {},
   "outputs": [],
   "source": [
    "df_stations.index[df_stations.position==row.POSITION][0]"
   ]
  },
  {
   "cell_type": "code",
   "execution_count": null,
   "id": "7791c21a-5176-4b11-b280-61c3f57663ec",
   "metadata": {},
   "outputs": [],
   "source": [
    "plt.plot(nb_emoped_stations);\n",
    "#plt.ylim([0,5])"
   ]
  },
  {
   "cell_type": "code",
   "execution_count": null,
   "id": "3c3d2464-ad57-427e-866f-33f46d461a8f",
   "metadata": {},
   "outputs": [],
   "source": [
    "station_id = []\n",
    "for pos_ in pos:\n",
    "    station = df_stations.index[df_stations.position == '%.3f %.3f'%(pos_[0], pos_[1])]\n",
    "    station_id.append(station)"
   ]
  },
  {
   "cell_type": "code",
   "execution_count": null,
   "id": "60b06a91-0e45-419e-bd70-757d53782c9e",
   "metadata": {},
   "outputs": [],
   "source": [
    "station_id_unique = np.unique(station_id)"
   ]
  },
  {
   "cell_type": "code",
   "execution_count": null,
   "id": "e66f41f7-b9a7-4c6d-8bc1-08df349f030f",
   "metadata": {},
   "outputs": [],
   "source": [
    "plt.plot(nb_emoped_stations[:,station_id_unique]);"
   ]
  },
  {
   "cell_type": "code",
   "execution_count": null,
   "id": "d4d6095d-b1ec-402b-9c90-8a5553fa4701",
   "metadata": {},
   "outputs": [],
   "source": [
    "station_id_unique"
   ]
  },
  {
   "cell_type": "code",
   "execution_count": null,
   "id": "274c6a03-6728-4b4b-8432-67e4247a46d3",
   "metadata": {},
   "outputs": [],
   "source": [
    "net_length = 0\n",
    "for name_sect in mmgraph_pt.roads.sections:\n",
    "    sect = mmgraph_pt.roads.sections[name_sect]\n",
    "    net_length += sect.length\n",
    "print(net_length*1e-3)"
   ]
  },
  {
   "cell_type": "code",
   "execution_count": null,
   "id": "e8aa97b9-9682-413e-9072-8a15bedf7c99",
   "metadata": {},
   "outputs": [],
   "source": [
    "pos[0]"
   ]
  },
  {
   "cell_type": "code",
   "execution_count": null,
   "id": "2d108a06-cf95-485f-b9df-c0297b87b122",
   "metadata": {},
   "outputs": [],
   "source": []
  },
  {
   "cell_type": "code",
   "execution_count": null,
   "id": "0f6cc5f1-ede8-4cd6-b3b2-9c72654ebd70",
   "metadata": {},
   "outputs": [],
   "source": []
  },
  {
   "cell_type": "code",
   "execution_count": null,
   "id": "9ca84142-1d9e-4025-b80a-1eb64797c558",
   "metadata": {},
   "outputs": [],
   "source": []
  },
  {
   "cell_type": "code",
   "execution_count": null,
   "id": "ae37bcb7-3a09-4739-8bad-23afdd4b9180",
   "metadata": {},
   "outputs": [],
   "source": []
  },
  {
   "cell_type": "code",
   "execution_count": null,
   "id": "07997998-f19b-41c9-a97a-551bff99cab6",
   "metadata": {},
   "outputs": [],
   "source": [
    "alpha=20/3600\n",
    "fee1 = 0.33/60\n",
    "fee2 = 1\n",
    "v_walk = 1.42\n",
    "v_emoped = 7.5\n",
    "\n",
    "print(fee2/(alpha/v_walk - (alpha+fee1)/v_emoped))"
   ]
  },
  {
   "cell_type": "code",
   "execution_count": null,
   "id": "d1d5bb50-ec4f-4e9d-8f7f-7db39316fbd2",
   "metadata": {},
   "outputs": [],
   "source": []
  },
  {
   "cell_type": "code",
   "execution_count": null,
   "id": "f0c8458c-f12a-4440-be8a-e7ddf3f918f1",
   "metadata": {},
   "outputs": [],
   "source": []
  },
  {
   "cell_type": "code",
   "execution_count": null,
   "id": "510a7be7-5a83-459d-8b15-2371932cfdbf",
   "metadata": {},
   "outputs": [],
   "source": []
  },
  {
   "cell_type": "code",
   "execution_count": null,
   "id": "802a110f-dc50-4a1f-b330-df08ec5ba0a6",
   "metadata": {},
   "outputs": [],
   "source": []
  },
  {
   "cell_type": "code",
   "execution_count": null,
   "id": "9d75993b-5332-4ee7-8b5a-8e504ab586a1",
   "metadata": {},
   "outputs": [],
   "source": []
  },
  {
   "cell_type": "code",
   "execution_count": null,
   "id": "3c7dddfc-3deb-438a-8de1-ab1a769afed3",
   "metadata": {},
   "outputs": [],
   "source": []
  },
  {
   "cell_type": "code",
   "execution_count": null,
   "id": "b0123240-c36c-4e80-9999-77d11fa78b5d",
   "metadata": {},
   "outputs": [],
   "source": []
  }
 ],
 "metadata": {
  "kernelspec": {
   "display_name": "Python 3 (ipykernel)",
   "language": "python",
   "name": "python3"
  },
  "language_info": {
   "codemirror_mode": {
    "name": "ipython",
    "version": 3
   },
   "file_extension": ".py",
   "mimetype": "text/x-python",
   "name": "python",
   "nbconvert_exporter": "python",
   "pygments_lexer": "ipython3",
   "version": "3.10.13"
  },
  "toc": {
   "base_numbering": 1,
   "nav_menu": {},
   "number_sections": true,
   "sideBar": true,
   "skip_h1_title": false,
   "title_cell": "Table of Contents",
   "title_sidebar": "Contents",
   "toc_cell": false,
   "toc_position": {},
   "toc_section_display": true,
   "toc_window_display": true
  }
 },
 "nbformat": 4,
 "nbformat_minor": 5
}
